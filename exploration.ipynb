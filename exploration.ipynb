{
 "cells": [
  {
   "cell_type": "markdown",
   "metadata": {},
   "source": [
    "## Independent Data Exploration"
   ]
  },
  {
   "cell_type": "markdown",
   "metadata": {},
   "source": [
    "This is the independent exploration project for Data 8. Please refer to Piazza and the Policies page for details on the project. Enter all of your code cells here for submission! You can either use this notebook directly or add the contents of this notebook to your own project notebook named `exploration.ipynb`. The following cell is required to submit."
   ]
  },
  {
   "cell_type": "code",
   "execution_count": 10,
   "metadata": {},
   "outputs": [
    {
     "name": "stdout",
     "output_type": "stream",
     "text": [
      "=====================================================================\n",
      "Assignment: Independent Data Exploration\n",
      "OK, version v1.12.5\n",
      "=====================================================================\n",
      "\n",
      "Successfully logged in as yashswarup@berkeley.edu\n"
     ]
    }
   ],
   "source": [
    "from datascience import *\n",
    "import numpy as np\n",
    "\n",
    "%matplotlib inline\n",
    "import matplotlib.pyplot as plots\n",
    "plots.style.use('fivethirtyeight')\n",
    "\n",
    "from datetime import datetime, timezone\n",
    "\n",
    "from client.api.notebook import Notebook\n",
    "ok = Notebook('exploration.ok')\n",
    "_ = ok.auth(inline=True)"
   ]
  },
  {
   "cell_type": "markdown",
   "metadata": {},
   "source": [
    "## 1. Independent Data Exploration"
   ]
  },
  {
   "cell_type": "markdown",
   "metadata": {},
   "source": [
    "We downloaded a Bitcoin Historical Dataset from https://www.kaggle.com/mczielinski/bitcoin-historical-data to analyse the increase in price rate from January 1,2012 to October 19, 2017. The original dataset was at 1-minute intervals but we made modified it to 1-day intervals. We have one row for each day from January 1, 2012 to October 19, 2017. "
   ]
  },
  {
   "cell_type": "markdown",
   "metadata": {},
   "source": [
    "Downloaded the modified dataset from a file called bitcoin.csv"
   ]
  },
  {
   "cell_type": "code",
   "execution_count": 2,
   "metadata": {},
   "outputs": [
    {
     "data": {
      "text/html": [
       "<table border=\"1\" class=\"dataframe\">\n",
       "    <thead>\n",
       "        <tr>\n",
       "            <th>Timestamp</th> <th>Open</th> <th>High</th> <th>Low</th> <th>Close</th> <th>Volume_(BTC)</th> <th>Volume_(Currency)</th> <th>Weighted_Price</th>\n",
       "        </tr>\n",
       "    </thead>\n",
       "    <tbody>\n",
       "        <tr>\n",
       "            <td>1325376000</td> <td>4.58</td> <td>4.58</td> <td>4.58</td> <td>4.58 </td> <td>9           </td> <td>41.22            </td> <td>4.58          </td>\n",
       "        </tr>\n",
       "    </tbody>\n",
       "        <tr>\n",
       "            <td>1325462400</td> <td>5   </td> <td>5   </td> <td>5   </td> <td>5    </td> <td>10.1        </td> <td>50.5             </td> <td>5             </td>\n",
       "        </tr>\n",
       "    </tbody>\n",
       "        <tr>\n",
       "            <td>1325548800</td> <td>5   </td> <td>5   </td> <td>5   </td> <td>5    </td> <td>19.048      </td> <td>95.24            </td> <td>5             </td>\n",
       "        </tr>\n",
       "    </tbody>\n",
       "        <tr>\n",
       "            <td>1325635200</td> <td>5.29</td> <td>5.29</td> <td>5.29</td> <td>5.29 </td> <td>4.01081     </td> <td>21.2172          </td> <td>5.29          </td>\n",
       "        </tr>\n",
       "    </tbody>\n",
       "        <tr>\n",
       "            <td>1325721600</td> <td>5.37</td> <td>5.57</td> <td>5.37</td> <td>5.57 </td> <td>43.3122     </td> <td>235.747          </td> <td>5.44297       </td>\n",
       "        </tr>\n",
       "    </tbody>\n",
       "        <tr>\n",
       "            <td>1325808000</td> <td>6.65</td> <td>6.65</td> <td>6.65</td> <td>6.65 </td> <td>0.499266    </td> <td>3.32012          </td> <td>6.65          </td>\n",
       "        </tr>\n",
       "    </tbody>\n",
       "        <tr>\n",
       "            <td>1325894400</td> <td>6   </td> <td>6   </td> <td>6   </td> <td>6    </td> <td>1           </td> <td>6                </td> <td>6             </td>\n",
       "        </tr>\n",
       "    </tbody>\n",
       "        <tr>\n",
       "            <td>1325980800</td> <td>6.8 </td> <td>6.8 </td> <td>6.8 </td> <td>6.8  </td> <td>0.295858    </td> <td>2.01183          </td> <td>6.8           </td>\n",
       "        </tr>\n",
       "    </tbody>\n",
       "        <tr>\n",
       "            <td>1326067200</td> <td>7   </td> <td>7   </td> <td>7   </td> <td>7    </td> <td>1           </td> <td>7                </td> <td>7             </td>\n",
       "        </tr>\n",
       "    </tbody>\n",
       "        <tr>\n",
       "            <td>1326153600</td> <td>6.3 </td> <td>6.3 </td> <td>6.3 </td> <td>6.3  </td> <td>1           </td> <td>6.3              </td> <td>6.3           </td>\n",
       "        </tr>\n",
       "    </tbody>\n",
       "</table>\n",
       "<p>... (2105 rows omitted)</p"
      ],
      "text/plain": [
       "Timestamp  | Open | High | Low  | Close | Volume_(BTC) | Volume_(Currency) | Weighted_Price\n",
       "1325376000 | 4.58 | 4.58 | 4.58 | 4.58  | 9            | 41.22             | 4.58\n",
       "1325462400 | 5    | 5    | 5    | 5     | 10.1         | 50.5              | 5\n",
       "1325548800 | 5    | 5    | 5    | 5     | 19.048       | 95.24             | 5\n",
       "1325635200 | 5.29 | 5.29 | 5.29 | 5.29  | 4.01081      | 21.2172           | 5.29\n",
       "1325721600 | 5.37 | 5.57 | 5.37 | 5.57  | 43.3122      | 235.747           | 5.44297\n",
       "1325808000 | 6.65 | 6.65 | 6.65 | 6.65  | 0.499266     | 3.32012           | 6.65\n",
       "1325894400 | 6    | 6    | 6    | 6     | 1            | 6                 | 6\n",
       "1325980800 | 6.8  | 6.8  | 6.8  | 6.8   | 0.295858     | 2.01183           | 6.8\n",
       "1326067200 | 7    | 7    | 7    | 7     | 1            | 7                 | 7\n",
       "1326153600 | 6.3  | 6.3  | 6.3  | 6.3   | 1            | 6.3               | 6.3\n",
       "... (2105 rows omitted)"
      ]
     },
     "execution_count": 2,
     "metadata": {},
     "output_type": "execute_result"
    }
   ],
   "source": [
    "bitcoin = Table.read_table('bitcoin.csv')\n",
    "bitcoin"
   ]
  },
  {
   "cell_type": "markdown",
   "metadata": {},
   "source": [
    "Since the data set contains timestamps instead of human dates, we extracted the Timestamp to a new table called timestamp_table, to convert the timestamps into the year they represent."
   ]
  },
  {
   "cell_type": "code",
   "execution_count": 4,
   "metadata": {},
   "outputs": [],
   "source": [
    "timestamp_table = bitcoin.select('Timestamp')"
   ]
  },
  {
   "cell_type": "markdown",
   "metadata": {},
   "source": [
    "Defined a function that converts timestamps to years for our data."
   ]
  },
  {
   "cell_type": "code",
   "execution_count": 5,
   "metadata": {},
   "outputs": [],
   "source": [
    "def convert_to_year(timestamp):\n",
    "    if timestamp < 1356998400 :\n",
    "        return 2012\n",
    "    elif timestamp < 1388534400:\n",
    "        return 2013\n",
    "    elif timestamp < 1420070400:\n",
    "        return 2014\n",
    "    elif timestamp < 1451606400:\n",
    "        return 2015\n",
    "    elif timestamp < 1483228800:\n",
    "        return 2016\n",
    "    else:\n",
    "        return 2017"
   ]
  },
  {
   "cell_type": "code",
   "execution_count": 6,
   "metadata": {},
   "outputs": [
    {
     "data": {
      "text/html": [
       "<table border=\"1\" class=\"dataframe\">\n",
       "    <thead>\n",
       "        <tr>\n",
       "            <th>Timestamp</th> <th>Year</th>\n",
       "        </tr>\n",
       "    </thead>\n",
       "    <tbody>\n",
       "        <tr>\n",
       "            <td>1325376000</td> <td>2012</td>\n",
       "        </tr>\n",
       "    </tbody>\n",
       "        <tr>\n",
       "            <td>1325462400</td> <td>2012</td>\n",
       "        </tr>\n",
       "    </tbody>\n",
       "        <tr>\n",
       "            <td>1325548800</td> <td>2012</td>\n",
       "        </tr>\n",
       "    </tbody>\n",
       "        <tr>\n",
       "            <td>1325635200</td> <td>2012</td>\n",
       "        </tr>\n",
       "    </tbody>\n",
       "        <tr>\n",
       "            <td>1325721600</td> <td>2012</td>\n",
       "        </tr>\n",
       "    </tbody>\n",
       "        <tr>\n",
       "            <td>1325808000</td> <td>2012</td>\n",
       "        </tr>\n",
       "    </tbody>\n",
       "        <tr>\n",
       "            <td>1325894400</td> <td>2012</td>\n",
       "        </tr>\n",
       "    </tbody>\n",
       "        <tr>\n",
       "            <td>1325980800</td> <td>2012</td>\n",
       "        </tr>\n",
       "    </tbody>\n",
       "        <tr>\n",
       "            <td>1326067200</td> <td>2012</td>\n",
       "        </tr>\n",
       "    </tbody>\n",
       "        <tr>\n",
       "            <td>1326153600</td> <td>2012</td>\n",
       "        </tr>\n",
       "    </tbody>\n",
       "</table>\n",
       "<p>... (2105 rows omitted)</p"
      ],
      "text/plain": [
       "Timestamp  | Year\n",
       "1325376000 | 2012\n",
       "1325462400 | 2012\n",
       "1325548800 | 2012\n",
       "1325635200 | 2012\n",
       "1325721600 | 2012\n",
       "1325808000 | 2012\n",
       "1325894400 | 2012\n",
       "1325980800 | 2012\n",
       "1326067200 | 2012\n",
       "1326153600 | 2012\n",
       "... (2105 rows omitted)"
      ]
     },
     "execution_count": 6,
     "metadata": {},
     "output_type": "execute_result"
    }
   ],
   "source": [
    "timestamp_table = timestamp_table.with_column('Year', timestamp_table.apply(convert_to_year, 'Timestamp'))\n",
    "timestamp_table"
   ]
  },
  {
   "cell_type": "markdown",
   "metadata": {},
   "source": [
    "We joined the timestamp table to the orignal bitcoin table."
   ]
  },
  {
   "cell_type": "code",
   "execution_count": 7,
   "metadata": {},
   "outputs": [
    {
     "data": {
      "text/html": [
       "<table border=\"1\" class=\"dataframe\">\n",
       "    <thead>\n",
       "        <tr>\n",
       "            <th>Timestamp</th> <th>Open</th> <th>High</th> <th>Low</th> <th>Close</th> <th>Volume_(BTC)</th> <th>Volume_(Currency)</th> <th>Weighted_Price</th> <th>Year</th>\n",
       "        </tr>\n",
       "    </thead>\n",
       "    <tbody>\n",
       "        <tr>\n",
       "            <td>1325376000</td> <td>4.58</td> <td>4.58</td> <td>4.58</td> <td>4.58 </td> <td>9           </td> <td>41.22            </td> <td>4.58          </td> <td>2012</td>\n",
       "        </tr>\n",
       "    </tbody>\n",
       "        <tr>\n",
       "            <td>1325462400</td> <td>5   </td> <td>5   </td> <td>5   </td> <td>5    </td> <td>10.1        </td> <td>50.5             </td> <td>5             </td> <td>2012</td>\n",
       "        </tr>\n",
       "    </tbody>\n",
       "        <tr>\n",
       "            <td>1325548800</td> <td>5   </td> <td>5   </td> <td>5   </td> <td>5    </td> <td>19.048      </td> <td>95.24            </td> <td>5             </td> <td>2012</td>\n",
       "        </tr>\n",
       "    </tbody>\n",
       "        <tr>\n",
       "            <td>1325635200</td> <td>5.29</td> <td>5.29</td> <td>5.29</td> <td>5.29 </td> <td>4.01081     </td> <td>21.2172          </td> <td>5.29          </td> <td>2012</td>\n",
       "        </tr>\n",
       "    </tbody>\n",
       "        <tr>\n",
       "            <td>1325721600</td> <td>5.37</td> <td>5.57</td> <td>5.37</td> <td>5.57 </td> <td>43.3122     </td> <td>235.747          </td> <td>5.44297       </td> <td>2012</td>\n",
       "        </tr>\n",
       "    </tbody>\n",
       "        <tr>\n",
       "            <td>1325808000</td> <td>6.65</td> <td>6.65</td> <td>6.65</td> <td>6.65 </td> <td>0.499266    </td> <td>3.32012          </td> <td>6.65          </td> <td>2012</td>\n",
       "        </tr>\n",
       "    </tbody>\n",
       "        <tr>\n",
       "            <td>1325894400</td> <td>6   </td> <td>6   </td> <td>6   </td> <td>6    </td> <td>1           </td> <td>6                </td> <td>6             </td> <td>2012</td>\n",
       "        </tr>\n",
       "    </tbody>\n",
       "        <tr>\n",
       "            <td>1325980800</td> <td>6.8 </td> <td>6.8 </td> <td>6.8 </td> <td>6.8  </td> <td>0.295858    </td> <td>2.01183          </td> <td>6.8           </td> <td>2012</td>\n",
       "        </tr>\n",
       "    </tbody>\n",
       "        <tr>\n",
       "            <td>1326067200</td> <td>7   </td> <td>7   </td> <td>7   </td> <td>7    </td> <td>1           </td> <td>7                </td> <td>7             </td> <td>2012</td>\n",
       "        </tr>\n",
       "    </tbody>\n",
       "        <tr>\n",
       "            <td>1326153600</td> <td>6.3 </td> <td>6.3 </td> <td>6.3 </td> <td>6.3  </td> <td>1           </td> <td>6.3              </td> <td>6.3           </td> <td>2012</td>\n",
       "        </tr>\n",
       "    </tbody>\n",
       "</table>\n",
       "<p>... (2105 rows omitted)</p"
      ],
      "text/plain": [
       "Timestamp  | Open | High | Low  | Close | Volume_(BTC) | Volume_(Currency) | Weighted_Price | Year\n",
       "1325376000 | 4.58 | 4.58 | 4.58 | 4.58  | 9            | 41.22             | 4.58           | 2012\n",
       "1325462400 | 5    | 5    | 5    | 5     | 10.1         | 50.5              | 5              | 2012\n",
       "1325548800 | 5    | 5    | 5    | 5     | 19.048       | 95.24             | 5              | 2012\n",
       "1325635200 | 5.29 | 5.29 | 5.29 | 5.29  | 4.01081      | 21.2172           | 5.29           | 2012\n",
       "1325721600 | 5.37 | 5.57 | 5.37 | 5.57  | 43.3122      | 235.747           | 5.44297        | 2012\n",
       "1325808000 | 6.65 | 6.65 | 6.65 | 6.65  | 0.499266     | 3.32012           | 6.65           | 2012\n",
       "1325894400 | 6    | 6    | 6    | 6     | 1            | 6                 | 6              | 2012\n",
       "1325980800 | 6.8  | 6.8  | 6.8  | 6.8   | 0.295858     | 2.01183           | 6.8            | 2012\n",
       "1326067200 | 7    | 7    | 7    | 7     | 1            | 7                 | 7              | 2012\n",
       "1326153600 | 6.3  | 6.3  | 6.3  | 6.3   | 1            | 6.3               | 6.3            | 2012\n",
       "... (2105 rows omitted)"
      ]
     },
     "execution_count": 7,
     "metadata": {},
     "output_type": "execute_result"
    }
   ],
   "source": [
    "bitcoin = bitcoin.join('Timestamp', timestamp_table)\n",
    "bitcoin"
   ]
  },
  {
   "cell_type": "markdown",
   "metadata": {},
   "source": [
    "Now we have a table with another categorical variable, the year of the price. We can now further use the year to visualize the average close price of bitcoins through the years."
   ]
  },
  {
   "cell_type": "markdown",
   "metadata": {},
   "source": [
    "We grouped the data in the new bitcoin table by selecting the columns, Year and Close and grouping according to Year and averaging the Close prices. This helped us in visualizing the data in the form of a line plot which shows the trend in the average close price through the years. "
   ]
  },
  {
   "cell_type": "code",
   "execution_count": 8,
   "metadata": {},
   "outputs": [
    {
     "data": {
      "image/png": "[encoded data removed]",
      "text/plain": [
       "<matplotlib.figure.Figure at 0x7f4886a647f0>"
      ]
     },
     "metadata": {},
     "output_type": "display_data"
    }
   ],
   "source": [
    "bitcoin.select(\"Year\",\"Close\").group(\"Year\", np.average).sort(\"Year\",descending = True).plot(\"Year\")"
   ]
  },
  {
   "cell_type": "markdown",
   "metadata": {},
   "source": [
    "**Conclusion:** By eyeballing this data we can depict the increase of bitcoin prices 2012 through 2017. The increase in prices as we can see has been extremely high with just a slight dip in 2014 to 2015. Thus we visualized a categorical variable. Since, the prices are mostly increasing throughout the year we decided to use growth rate as a test statistic for our hypothesis."
   ]
  },
  {
   "cell_type": "markdown",
   "metadata": {},
   "source": [
    "## Impact of Introduction of Ethereum on the Price of Bitcoin"
   ]
  },
  {
   "cell_type": "markdown",
   "metadata": {},
   "source": [
    "We decided to test the impact of  the introduction of a new cryptocurrency, ethereum on the price of bitcoin. Ethereum was introduced on July 30, 2015. We seperated the data into two tables, prices before the launch of ethereum and prices after the launch of ethereum."
   ]
  },
  {
   "cell_type": "code",
   "execution_count": 9,
   "metadata": {},
   "outputs": [],
   "source": [
    "bitcoin_before_ethereum = bitcoin.where('Timestamp', are.below(1438257600))\n",
    "bitcoin_after_ethereum = bitcoin.where('Timestamp', are.above_or_equal_to(1438257600))"
   ]
  },
  {
   "cell_type": "markdown",
   "metadata": {},
   "source": [
    "To visualize a quantitative variable we scatter plotted the close prices of bitcoin with respect to the date."
   ]
  },
  {
   "cell_type": "code",
   "execution_count": 112,
   "metadata": {},
   "outputs": [
    {
     "data": {
      "image/png": "[encoded data removed]",
      "text/plain": [
       "<matplotlib.figure.Figure at 0x7ff75b9662e8>"
      ]
     },
     "metadata": {},
     "output_type": "display_data"
    },
    {
     "data": {
      "image/png": "[encoded data removed]",
      "text/plain": [
       "<matplotlib.figure.Figure at 0x7ff75b966588>"
      ]
     },
     "metadata": {},
     "output_type": "display_data"
    }
   ],
   "source": [
    "bitcoin_before_ethereum.scatter(0, 4)\n",
    "bitcoin_after_ethereum.scatter(0, 4)"
   ]
  },
  {
   "cell_type": "markdown",
   "metadata": {},
   "source": [
    "The first graph shows the trend of bitcoin close prices before the launch of ethereum and the second graph shows the the trend of bitcoin close prices after the launch of ethereum."
   ]
  },
  {
   "cell_type": "markdown",
   "metadata": {},
   "source": [
    "**We then decided to perform a hypotheses test:**\n"
   ]
  },
  {
   "cell_type": "markdown",
   "metadata": {},
   "source": [
    "**Null hypotheses:** There was no impact on the prices of bitcoin due to the introduction of ethereum and the change is only due to chance variation.\n",
    "\n",
    "**Alternative hypotheses:** The introduction of ethereum impacted bitcoin prices.\n",
    "\n",
    "**Test Statistic:** The difference in monthly growth rates calculated over a period of sixty days before and after the launch of ethereum."
   ]
  },
  {
   "cell_type": "code",
   "execution_count": 113,
   "metadata": {},
   "outputs": [],
   "source": [
    "def growth_rate(after, before, t):\n",
    "    return ((after/before)**(1/t))-1"
   ]
  },
  {
   "cell_type": "markdown",
   "metadata": {},
   "source": [
    "We randomly sampled one day and calculated the growth rate of the period of thirty days before that date and thirty days after that date, a thousand times over. We stored all the growth rates in an array called be_growth_rates."
   ]
  },
  {
   "cell_type": "code",
   "execution_count": 114,
   "metadata": {},
   "outputs": [
    {
     "data": {
      "text/plain": [
       "array([  1.56113329e+00,  -4.05219915e-02,   3.10150949e-02,\n",
       "        -1.32845157e-01,   1.96339113e-01,   1.06129046e-01,\n",
       "        -1.43403146e-01,  -2.31874901e-02,  -8.64007789e-02,\n",
       "         5.70174293e-02,  -1.04149694e-01,  -1.19383507e-02,\n",
       "         1.75796474e+00,   2.28270334e-01,  -1.65403388e-01,\n",
       "         1.02773388e+00,   1.04055819e-01,   1.32274669e+00,\n",
       "        -1.27702886e-01,   1.04754012e-01,   3.72770174e-02,\n",
       "         2.06017752e+00,  -2.71801137e-02,  -3.82112546e-02,\n",
       "         1.00777776e-01,  -6.48251654e-02,  -6.89090307e-02,\n",
       "         2.05005039e+00,  -1.92821851e-02,   5.91736116e-02,\n",
       "         1.54418693e+00,  -2.12252557e-02,   7.78518942e-02,\n",
       "         4.16147751e-01,  -1.24127095e-01,  -2.22347701e-02,\n",
       "         1.53247536e-01,  -1.55823678e-01,  -1.44053730e-01,\n",
       "         9.19623812e-01,   9.87654562e-04,   2.40491788e-01,\n",
       "        -1.31359484e-01,  -1.52584667e-02,   1.62490155e+00,\n",
       "         2.05577502e-03,   7.01808401e-02,   1.56113329e+00,\n",
       "         3.01876296e-01,  -3.07632604e-01,   6.15352990e-02,\n",
       "         0.00000000e+00,   2.99812478e-01,   2.60395907e-01,\n",
       "         9.51819856e-02,   4.88482793e-02,   4.00268136e-01,\n",
       "        -1.24301521e-01,   8.98807274e-02,   4.81535370e-01,\n",
       "         2.11244661e-01,  -8.47005074e-02,   1.18933599e+00,\n",
       "         2.21775134e-01,   1.16558458e-01,   5.80018556e-02,\n",
       "        -1.52584667e-02,  -5.52845452e-02,   1.55698983e-01,\n",
       "         1.39830074e-01,   1.52457444e-01,  -5.68866536e-02,\n",
       "        -1.19519505e-01,   1.66290666e-01,  -2.46946513e-01,\n",
       "        -2.02372980e-01,   4.81535370e-01,  -2.35228686e-02,\n",
       "         1.26024239e+00,  -8.53919219e-02,   8.35698365e-01,\n",
       "         1.58573326e+00,   1.66979908e-01,  -6.51209632e-03,\n",
       "        -1.53207012e-02,   1.80681317e-02,  -6.78774442e-02,\n",
       "        -4.34891097e-02,   2.19432565e-01,   1.65194773e-03,\n",
       "         1.05030127e-01,   1.77004892e-02,  -1.57009105e-01,\n",
       "         8.71501738e-01,   4.61450500e-01,  -6.89090307e-02,\n",
       "         5.76597127e-02,  -1.30804615e-01,   1.04768810e-01,\n",
       "         5.75537568e-01,   2.81426773e-01,   7.70851682e-01,\n",
       "         5.03158031e-01,   2.83896233e-01,   5.63078522e-01,\n",
       "         3.26050446e-01,   1.06523739e-01,  -3.37764502e-02,\n",
       "        -2.26164256e-02,   3.16118114e-01,   1.26803017e-01,\n",
       "         2.77052203e-01,  -6.66925920e-02,   1.14355321e+00,\n",
       "         1.62490155e+00,  -6.88942830e-02,   4.93692681e-01,\n",
       "         1.06378811e-01,  -1.55077683e-01,  -1.71987538e-01,\n",
       "         9.85482498e-02,   2.28270334e-01,  -2.80136890e-02,\n",
       "         6.19572986e-02,  -4.80139427e-02,  -6.51209632e-03,\n",
       "         1.65915065e-01,   3.22374260e-02,   4.86019021e-02,\n",
       "        -9.94985308e-02,   2.88124780e-02,   1.68672901e-01,\n",
       "         1.52457444e-01,   1.75185805e-02,  -5.90304661e-02,\n",
       "        -7.74458832e-03,   1.48423596e-01,  -1.34885512e-01,\n",
       "        -9.06301042e-02,  -6.97729735e-02,  -1.52042604e-01,\n",
       "        -1.26108450e-02,   1.26583456e-01,  -4.71431496e-02,\n",
       "         8.45916414e-01,  -1.23723490e-01,   1.73320551e-01,\n",
       "         1.55698983e-01,  -5.43595915e-03,  -6.99388768e-03,\n",
       "         1.64591464e+00,  -8.02275656e-02,  -1.78380699e-01,\n",
       "         8.73659593e-02,   1.06147437e-01,   8.10523347e-01,\n",
       "        -1.25992243e-01,  -1.95863566e-01,   3.97640919e-02,\n",
       "         1.38751873e+00,  -1.04113449e-01,   2.17186946e-02,\n",
       "        -1.01773083e-01,   2.03419596e-01,   1.91256466e-01,\n",
       "         8.45916414e-01,   1.29609711e-01,  -1.05112199e-01,\n",
       "        -6.66420456e-02,  -4.85890089e-02,  -1.04149694e-01,\n",
       "         5.49220667e-01,   5.49466187e-02,   2.11729096e-01,\n",
       "        -1.64100209e-01,   1.07949569e+00,   8.73659593e-02,\n",
       "        -2.72563787e-02,  -1.70243645e-02,   1.13861663e-01,\n",
       "         1.30462113e-02,  -8.64007789e-02,   1.14753149e-01,\n",
       "        -1.04009977e-01,  -4.12782613e-02,   2.17963796e-01,\n",
       "         1.03791070e-01,  -7.90702207e-02,  -1.24298996e-01,\n",
       "         1.98345629e-01,   2.76606017e-01,   2.38317222e-02,\n",
       "         1.04309869e+00,  -1.27669387e-01,  -1.26782428e-01,\n",
       "         7.47092630e-02,  -2.38982163e-01,   2.09966880e-01,\n",
       "        -1.43770571e-01,  -3.48908644e-02,   9.18017700e-01,\n",
       "         5.35605864e-02,   7.68669774e-01,   9.47460948e-01,\n",
       "         2.08356861e-01,  -9.64838926e-03,   1.07881976e-01,\n",
       "         8.23585114e-01,   5.07556723e-01,   3.51530804e-01,\n",
       "         9.19623812e-01,  -5.61644921e-02,  -1.57166500e-01,\n",
       "        -8.18665712e-04,  -3.82112546e-02,   5.81471809e-02,\n",
       "        -1.11033335e-02,  -1.32844809e-01,   1.91256466e-01,\n",
       "         6.00606001e-03,   1.04661259e-01,  -7.89128368e-02,\n",
       "         2.35011144e-01,   9.90058626e-01,  -1.19770316e-01,\n",
       "        -2.53998028e-01,   2.82701331e-01,   3.16118114e-01,\n",
       "        -1.55077683e-01,   1.15043692e-01,   1.09239860e-01,\n",
       "         1.04309869e+00,  -8.04842060e-03,  -1.24301521e-01,\n",
       "         3.33400696e-01,   4.88482793e-02,   2.42652826e-01,\n",
       "        -1.70243645e-02,   1.61547497e-01,   1.25341087e+00,\n",
       "         9.64892250e-02,  -1.51770745e-01,  -2.34755507e-02,\n",
       "         1.72203444e-01,  -4.32397145e-02,  -8.69268110e-02,\n",
       "         6.74685918e-02,  -5.82968084e-02,  -1.81936618e-01,\n",
       "         1.35052227e-01,  -1.53207012e-02,  -1.40094994e-01,\n",
       "         2.18765756e+00,   1.83169003e-01,   1.62074740e-01,\n",
       "         2.04229203e-01,  -1.39818855e-01,   5.10994713e-01,\n",
       "        -8.44802450e-02,   2.84904818e-01,   1.19970673e+00,\n",
       "         8.44328168e-01,  -1.43705801e-01,   7.01762996e-03,\n",
       "         2.14514720e-01,  -1.72479584e-01,   2.38258241e-01,\n",
       "         1.15722270e-02,  -1.14317826e-01,   8.82407465e-02,\n",
       "         1.15474163e-01,   2.87149074e-01,   5.61320561e-01,\n",
       "        -6.75363084e-02,  -3.18154080e-02,  -2.12996341e-02,\n",
       "        -1.92110815e-02,   1.04628106e-01,   7.38419490e-02,\n",
       "         1.66415332e+00,  -8.04842060e-03,  -1.07931734e-01,\n",
       "        -1.10496031e-01,  -6.04717418e-02,   1.66415332e+00,\n",
       "        -1.51466148e-01,   3.16561177e-01,  -1.26433192e-01,\n",
       "        -6.66925920e-02,   2.14514720e-01,  -1.39818855e-01,\n",
       "         1.30388331e-01,   4.38180901e-02,   1.15074467e-01,\n",
       "         2.87070130e-01,   1.97917213e-01,  -6.04717418e-02,\n",
       "         8.67624541e-02,  -4.19332400e-02,  -2.53998028e-01,\n",
       "        -2.67321455e-02,   2.40086741e-01,   5.71714841e-01,\n",
       "        -1.34353450e-01,   2.84128482e-01,   1.86158688e-02,\n",
       "         1.85136763e-01,  -5.40627949e-03,  -1.37834441e-01,\n",
       "         1.75185805e-02,  -4.33165719e-02,  -1.03560623e-01,\n",
       "         1.18734969e-02,   1.13861663e-01,  -5.80524772e-02,\n",
       "        -6.97873499e-02,  -1.11111988e-01,  -6.39548714e-02,\n",
       "        -1.45486588e-01,   2.83896233e-01,   7.17233542e-02,\n",
       "         2.77955226e-02,  -8.04842060e-03,   1.96339113e-01,\n",
       "         2.42885673e-01,  -1.55077683e-01,  -1.92758317e-01,\n",
       "        -6.46242744e-02,  -1.21649015e-02,  -1.68967744e-01,\n",
       "         7.40693646e-02,  -7.28420638e-04,   1.20823009e-01,\n",
       "         1.22338587e+00,  -2.99483006e-02,   1.34441061e-01,\n",
       "        -1.91197958e-01,  -3.02446020e-02,  -5.55631185e-02,\n",
       "         1.07862077e+00,  -1.72754041e-01,   6.07106638e-02,\n",
       "        -4.71431496e-02,   2.04229203e-01,  -1.39844546e-01,\n",
       "         9.19113628e-01,   1.43754379e-02,  -2.12252557e-02,\n",
       "        -2.02367796e-01,   5.63078522e-01,  -5.45064710e-02,\n",
       "         9.86659604e-02,   6.11875993e-03,  -1.22028404e-01,\n",
       "         7.89652800e-01,   1.29896386e-01,   1.85136763e-01,\n",
       "        -2.87893045e-02,  -4.33165719e-02,   9.62404374e-01,\n",
       "        -1.27669387e-01,  -1.24388242e-01,  -7.63131103e-02,\n",
       "        -9.45266951e-02,  -6.78774442e-02,   2.60395907e-01,\n",
       "         4.94573176e-02,  -1.07441540e-01,  -1.54845745e-01,\n",
       "         1.91256466e-01,   4.81535370e-01,  -1.41554158e-01,\n",
       "        -1.49583435e-01,  -5.61644921e-02,   9.16141957e-01,\n",
       "         2.19432565e-01,  -5.41380020e-02,  -1.13169198e-01,\n",
       "         2.87812695e-01,  -1.53207012e-02,  -1.09492351e-02,\n",
       "        -6.75363084e-02,  -1.14317826e-01,  -3.68573393e-02,\n",
       "         9.57844197e-02,  -7.72497367e-02,   2.84128482e-01,\n",
       "        -2.99483006e-02,   1.66979908e-01,   0.00000000e+00,\n",
       "         6.07106638e-02,   1.53247536e-01,   2.85679704e-02,\n",
       "         6.11875993e-03,   8.18267818e-02,   1.62260344e+00,\n",
       "         1.72511356e-01,   8.75896410e-01,   1.41928194e-01,\n",
       "        -1.99554483e-01,   5.60989640e-01,   1.38454405e-01,\n",
       "         6.11875993e-03,   5.34262859e-02,  -1.46253883e-01,\n",
       "         1.04797580e-01,  -8.78861992e-03,  -1.23428516e-01,\n",
       "        -1.26374653e-01,  -9.06301042e-02,   4.05911799e-01,\n",
       "         5.39187282e-02,  -1.16291370e-01,   1.68555085e+00,\n",
       "         2.72225098e-01,   6.05293987e-02,   1.34441061e-01,\n",
       "        -6.75363084e-02,   1.30462113e-02,   2.11729096e-01,\n",
       "         5.49220667e-01,  -1.81936618e-01,  -1.19383507e-02,\n",
       "        -1.48530682e-01,   3.32346775e-01,   3.72770174e-02,\n",
       "        -1.57126253e-01,  -2.86387525e-02,   3.60034559e-01,\n",
       "         1.72123660e-01,   8.71225959e-02,  -4.33165719e-02,\n",
       "         4.16147751e-01,  -1.55077683e-01,   2.85152815e-01,\n",
       "        -1.11111988e-01,  -1.57697380e-01,  -1.27222445e-01,\n",
       "         8.44328168e-01,   1.41928194e-01,   2.98890513e-01,\n",
       "         7.36068084e-02,  -6.80648288e-02,  -3.05749404e-02,\n",
       "         3.39360341e-02,   3.19703511e-01,   7.62039817e-02,\n",
       "        -8.44802450e-02,   2.20409188e-01,  -4.85890089e-02,\n",
       "         1.60539687e+00,  -2.16102614e-01,   1.77090552e-01,\n",
       "        -1.52042604e-01,   3.09577385e-01,   8.89622267e-01,\n",
       "        -1.48634592e-01,   2.11244661e-01,  -1.23822561e-01,\n",
       "         1.91687755e-01,   1.05699656e+00,   2.40086741e-01,\n",
       "         6.44145666e-01,   1.95952771e-01,   1.96552593e+00,\n",
       "        -1.39844546e-01,   1.19260601e-01,   1.26024239e+00,\n",
       "        -1.26108450e-02,  -2.34563402e-01,   2.86272645e-02,\n",
       "         1.57171670e-01,  -2.28112201e-01,   9.62404374e-01,\n",
       "        -4.80139427e-02,  -5.55631185e-02,   1.18287492e+00,\n",
       "         5.60989640e-01,   5.81471809e-02,   4.38005799e-02,\n",
       "        -2.31874901e-02,  -1.24320072e-01,  -1.22028404e-01,\n",
       "        -1.54845745e-01,   1.18287492e+00,   2.57774228e-02,\n",
       "         7.13203128e-03,   1.68555085e+00,   9.53374302e-01,\n",
       "        -7.43900760e-02,   2.51019921e-02,   2.39531059e-01,\n",
       "         1.79531628e-01,   0.00000000e+00,  -1.70034359e-01,\n",
       "         2.18683884e-01,   3.19678255e-01,  -2.56056596e-01,\n",
       "         1.04703748e-01,  -1.27702886e-01,   3.60034559e-01,\n",
       "         6.68393414e-01,   1.63008874e-01,  -4.24887942e-02,\n",
       "        -1.85920146e-01,   1.49795210e+00,   2.11244661e-01,\n",
       "        -5.90304661e-02,   2.41064978e-02,  -1.28397308e-01,\n",
       "         6.64002130e-01,  -3.42856929e-02,  -2.32839557e-01,\n",
       "        -5.57352277e-02,  -2.44598817e-03,  -2.93434868e-02,\n",
       "         6.84880283e-02,   1.12527088e+00,  -1.85920146e-01,\n",
       "         1.67088133e-01,   9.08650674e-03,  -9.72024290e-02,\n",
       "        -2.33955058e-01,   9.57844197e-02,   1.64528347e-01,\n",
       "         5.76597127e-02,   9.64892250e-02,   4.43635717e-01,\n",
       "         4.31156366e-02,   2.76031301e-02,   7.47092630e-02,\n",
       "         1.72792846e-02,   1.51142581e-01,   1.15043692e-01,\n",
       "         5.63078522e-01,   1.03549061e-01,   1.87847943e-01,\n",
       "         8.82407465e-02,  -1.39276426e-01,   4.49079717e-02,\n",
       "         0.00000000e+00,   7.28764280e-02,  -4.33165719e-02,\n",
       "         2.22053544e-01,   2.22053544e-01,   1.88050737e-01,\n",
       "        -4.12782613e-02,   1.86252914e-02,   1.46244321e-02,\n",
       "         7.02024731e-02,  -5.23916746e-02,   4.00077497e-01,\n",
       "         1.63073397e-01,   3.19703511e-01,  -1.10496031e-01,\n",
       "         5.07556723e-01,   2.76606017e-01,  -1.81936618e-01,\n",
       "        -8.58735998e-03,  -6.78774442e-02,  -2.93434868e-02,\n",
       "         1.98432038e-02,   2.75702512e-02,  -6.54788716e-03,\n",
       "         4.37723829e-01,  -1.97998377e-01,   2.40086741e-01,\n",
       "         1.03445781e-01,   3.49373650e-01,   1.73320551e-01,\n",
       "         2.18683884e-01,  -9.06301042e-02,   2.85840758e-01,\n",
       "         3.10150949e-02,   0.00000000e+00,   1.81351692e-01,\n",
       "        -8.80610475e-02,  -1.48634592e-01,   1.91256466e-01,\n",
       "         1.80681317e-02,   6.76592963e-02,   1.53247536e-01,\n",
       "        -4.19332400e-02,   2.05577502e-03,  -1.64620298e-02,\n",
       "         1.73320551e-01,   1.02773388e+00,  -5.52845452e-02,\n",
       "        -4.95615047e-02,  -6.43690031e-02,   4.70904866e-02,\n",
       "         8.23137102e-02,  -1.72754041e-01,   7.08438667e-02,\n",
       "        -7.22947127e-02,  -2.67321455e-02,   1.62965372e-01,\n",
       "         2.41064978e-02,   3.39360341e-02,  -8.18665712e-04,\n",
       "         1.72164485e-01,   1.87270392e-01,  -8.00951276e-02,\n",
       "         1.03265323e-01,  -8.00384449e-03,   2.18683884e-01,\n",
       "        -2.27012717e-01,   5.70174293e-02,   1.09801385e-01,\n",
       "         7.34577771e-02,  -1.93107156e-01,  -8.58735998e-03,\n",
       "         2.40086741e-01,  -7.77154637e-03,   1.22338587e+00,\n",
       "         1.56707817e-01,  -1.58053784e-02,  -9.06301042e-02,\n",
       "         5.36110612e-01,   3.66916380e-01,  -1.63496519e-01,\n",
       "        -8.76003615e-02,   2.03701519e-01,  -1.08444172e-01,\n",
       "         1.87270392e-01,   3.97640919e-02,  -1.24301521e-01,\n",
       "         2.87070130e-01,  -1.23822561e-01,  -8.18665712e-04,\n",
       "        -1.92110815e-02,   8.55284914e-01,   4.70904866e-02,\n",
       "         1.04703748e-01,   1.95228609e-01,  -6.48251654e-02,\n",
       "        -1.55548111e-01,   1.48041811e-01,   1.09437857e+00,\n",
       "        -2.28112201e-01,  -1.05112199e-01,   5.34262859e-02,\n",
       "         3.63376726e-02,   1.98432038e-02,   5.75537568e-01,\n",
       "        -4.05219915e-02,   2.84128482e-01,  -4.12782613e-02,\n",
       "        -5.60342016e-02,  -6.97729735e-02,   2.05702898e-01,\n",
       "         1.58573326e+00,  -8.44802450e-02,   8.68700703e-02,\n",
       "        -4.35275437e-02,   1.07862077e+00,   1.55202037e-01,\n",
       "        -1.24298996e-01,   1.79775569e-01,  -4.01608048e-03,\n",
       "         4.16147751e-01,   3.73776095e-02,   2.05270959e-01,\n",
       "        -1.15717627e-01,  -1.81301425e-01,  -2.16102614e-01,\n",
       "         2.87149074e-01,   0.00000000e+00,   1.07155252e-01,\n",
       "         7.93736462e-01,  -1.92758317e-01,  -1.61669236e-01,\n",
       "        -7.26652635e-02,  -2.99151384e-02,   2.38317222e-02,\n",
       "        -2.29553141e-01,   1.79306133e-01,  -4.35275437e-02,\n",
       "         1.55885950e+00,  -1.39818855e-01,  -1.18251966e-01,\n",
       "        -2.86310780e-02,   1.42344298e-01,  -2.45011838e-01,\n",
       "         1.63073397e-01,   2.70857728e-01,  -2.34755507e-02,\n",
       "         2.06428920e-01,  -1.30856167e-02,   2.11244661e-01,\n",
       "        -2.86387525e-02,   5.43789037e-02,   1.50989920e-02,\n",
       "         6.74724369e-02,   1.80905607e+00,   2.34845681e-02,\n",
       "        -7.72497367e-02,   8.56455917e-01,   4.37723829e-01,\n",
       "        -1.41554158e-01,   8.73659593e-02,   8.23137102e-02,\n",
       "         2.10549405e-02,   2.34845681e-02,   2.42414484e-01,\n",
       "        -3.74979073e-02,   1.25688932e-01,   7.89652800e-01,\n",
       "        -1.08444172e-01,   5.34262859e-02,  -1.93416542e-01,\n",
       "         1.38751873e+00,   1.19970673e+00,  -4.71431496e-02,\n",
       "        -2.26951286e-02,   6.11875993e-03,   1.79531628e-01,\n",
       "        -1.99554483e-01,  -1.56449304e-01,   2.17963796e-01,\n",
       "         1.15074467e-01,   8.03109649e-01,   2.12695086e-01,\n",
       "         1.50577646e-01,  -1.07441540e-01,   1.15870331e+00,\n",
       "         4.36943923e-01,   3.16561177e-01,   3.16118114e-01,\n",
       "         1.43880177e-01,  -6.47572955e-02,  -1.61669236e-01,\n",
       "        -3.37764502e-02,  -1.96649073e-01,  -9.11487774e-02,\n",
       "         2.07655706e-01,  -6.47572955e-02,  -1.25315591e-01,\n",
       "         2.18765756e+00,  -6.86130945e-02,   2.85679704e-02,\n",
       "        -1.24298996e-01,   2.95273861e-01,   3.65228833e-01,\n",
       "         2.41970474e-02,  -1.07441540e-01,   8.63211207e-02,\n",
       "        -1.24388242e-01,  -7.63131103e-02,   1.53247536e-01,\n",
       "         7.28764280e-02,   1.80681317e-02,  -2.35228686e-02,\n",
       "        -1.30856167e-02,   8.35698365e-01,   9.86659604e-02,\n",
       "         1.03791070e-01,   2.22763379e-01,  -1.05230266e-01,\n",
       "         4.16147751e-01,   8.40378879e-02,   5.61320561e-01,\n",
       "        -9.10079649e-02,   1.04768810e-01,   1.67152474e-01,\n",
       "         2.28270334e-01,  -5.80796760e-02,  -9.21472772e-02,\n",
       "         1.80681317e-02,   5.67321035e-02,   9.52681878e-02,\n",
       "        -6.66420456e-02,   7.93736462e-01,  -1.51770745e-01,\n",
       "         1.83169003e-01,   1.48041811e-01,   5.80965260e-01,\n",
       "         2.17963796e-01,   2.35011144e-01,  -1.46253883e-01,\n",
       "         2.55938993e-03,   1.58573326e+00,  -3.18154080e-02,\n",
       "         1.84476709e-01,   3.33400696e-01,  -3.93043391e-02,\n",
       "         2.43790217e-02,   4.47218095e-01,   1.03549061e-01,\n",
       "         8.20755754e-01,  -1.09492351e-02,   1.08653419e-02,\n",
       "         1.55698983e-01,   1.62965372e-01,   2.84904818e-01,\n",
       "        -1.91197958e-01,   1.09107280e+00,   1.62260344e+00,\n",
       "         8.04936681e-01,  -9.94985308e-02,   8.68700703e-02,\n",
       "         2.00109106e-01,  -5.23916746e-02,  -2.26951286e-02,\n",
       "        -1.15383204e-01,   1.77090552e-01,  -2.46946513e-01,\n",
       "        -7.90702207e-02,  -1.23967744e-01,   1.72164485e-01,\n",
       "         2.26229111e-01,  -7.28420638e-04,  -2.11087155e-01,\n",
       "         1.86651092e-01,  -1.72022218e-02,  -1.25944544e-01,\n",
       "         1.26803017e-01,  -1.92758317e-01,  -1.43076451e-01,\n",
       "         1.37155088e-01,  -8.78861992e-03,  -1.02287051e-01,\n",
       "        -3.88655342e-02,  -2.16102614e-01,  -6.24409281e-02,\n",
       "         1.94491193e-01,  -9.25363405e-02,   1.07052861e-01,\n",
       "         1.77004892e-02,   1.27039024e-01,  -7.13184117e-02,\n",
       "         2.64312006e-01,   7.05448932e-02,  -1.38470865e-01,\n",
       "         2.07655706e-01,   7.65613219e-01,   3.23028900e-02,\n",
       "         5.38954593e-01,   4.16147751e-01,   1.13098296e-01,\n",
       "        -1.05112199e-01,  -1.71272397e-02,   6.04975313e-02,\n",
       "        -1.07931734e-01,   1.24266481e+00,   7.66161568e-02,\n",
       "        -1.53207012e-02,  -3.72080942e-02,  -1.08529819e-01,\n",
       "         1.80905607e+00,   8.82407465e-02,  -3.74509765e-02,\n",
       "        -9.21462226e-02,   6.56527344e-01,  -5.90088782e-02,\n",
       "        -4.33165719e-02,  -4.19332400e-02,   9.08650674e-03,\n",
       "        -1.56773912e-01,   7.26613676e-02,  -2.76473504e-03,\n",
       "         1.04661259e-01,   2.08356861e-01,  -1.57576461e-01,\n",
       "         6.49593408e-01,  -1.57576461e-01,   5.03953769e-02,\n",
       "        -1.97998377e-01,  -1.18251966e-01,   3.73057527e-02,\n",
       "         3.13873613e-01,   1.07052861e-01,  -9.10079649e-02,\n",
       "        -3.18154080e-02,  -1.18164372e-01,   4.00268136e-01,\n",
       "         7.79020192e-01,   3.73051408e-01,   1.81750361e-01,\n",
       "        -1.15387270e-01,  -1.35141466e-01,  -1.15717627e-01,\n",
       "        -1.23967744e-01,   8.40378879e-02,  -1.44045055e-01,\n",
       "        -4.92174865e-02,   5.63078522e-01,   1.42344298e-01,\n",
       "         2.47344372e-02,   4.47218095e-01,  -1.72217575e-01,\n",
       "        -7.77154637e-03,  -1.09492351e-02,  -2.38982163e-01,\n",
       "        -1.39844546e-01,  -1.51685850e-02,   2.83896233e-01,\n",
       "         1.79531628e-01,   1.80883010e+00,  -7.98065451e-02,\n",
       "         2.88959783e-01,   1.97333102e-01,   4.47218095e-01,\n",
       "         2.77121660e-01,   1.86158688e-02,   9.08272208e-02,\n",
       "         5.94730867e-02,  -4.36231016e-02,  -7.37658029e-02,\n",
       "        -1.39818855e-01,   1.84801377e-01,   0.00000000e+00,\n",
       "         3.16118114e-01,   4.47218095e-01,  -1.34873707e-01,\n",
       "        -1.69760053e-01,  -2.29553141e-01,  -1.72754041e-01,\n",
       "        -2.25033577e-02,   1.43880177e-01,   1.55698983e-01,\n",
       "        -1.31529656e-01,  -2.07499691e-01,   1.78055530e-02,\n",
       "        -1.32845157e-01,   6.68393414e-01,   5.15852240e-01,\n",
       "         1.06378811e-01,  -1.72894605e-01,   1.86252914e-02,\n",
       "        -1.28397308e-01,   5.09964065e-01,   1.06129046e-01,\n",
       "         3.79600418e-02,  -5.82968084e-02,   1.74996219e-01,\n",
       "         2.81882225e-01,   9.53374302e-01,   1.14355321e+00,\n",
       "         1.26803017e-01,   1.07298858e+00,   3.94098261e-02,\n",
       "         6.60892011e-02,  -1.11943825e-02,   1.26583456e-01,\n",
       "         1.80883010e+00,   8.82984266e-02,   2.40063163e-02,\n",
       "         2.60395907e-01,  -1.11111988e-01,   2.57774228e-02])"
      ]
     },
     "execution_count": 114,
     "metadata": {},
     "output_type": "execute_result"
    }
   ],
   "source": [
    "be_growth_rates = make_array()\n",
    "for i in np.arange(1000):\n",
    "    sample = bitcoin_before_ethereum.take(np.arange(30, 1273)).sample(1)\n",
    "    current_timestamp = sample.column(0).item(0)\n",
    "    future_timestamp = current_timestamp + 2592000\n",
    "    before_timestamp = current_timestamp - 2592000\n",
    "    current_close = sample.column(4).item(0)\n",
    "    future_close = bitcoin_before_ethereum.where('Timestamp', future_timestamp).column(4)\n",
    "    before_close = bitcoin_before_ethereum.where('Timestamp', before_timestamp).column(4)\n",
    "    rate = growth_rate(future_close, before_close, 2)\n",
    "    be_growth_rates = np.append(be_growth_rates, rate)\n",
    "be_growth_rates"
   ]
  },
  {
   "cell_type": "markdown",
   "metadata": {},
   "source": [
    "In the next cell, we have plotted the distibution of the growth rates before the launch of ethereum."
   ]
  },
  {
   "cell_type": "code",
   "execution_count": 115,
   "metadata": {},
   "outputs": [
    {
     "data": {
      "image/png": "[encoded data removed]",
      "text/plain": [
       "<matplotlib.figure.Figure at 0x7ff75507e128>"
      ]
     },
     "metadata": {},
     "output_type": "display_data"
    }
   ],
   "source": [
    "plot = Table().with_column('Growth Rates', be_growth_rates)\n",
    "plot.hist()"
   ]
  },
  {
   "cell_type": "markdown",
   "metadata": {},
   "source": [
    "Again, we randomly sampled one day and calculated the growth rate of the period of thirty days before that date and thirty days after that date, a thousand times over. We stored all the growth rates in an array called ae_growth_rates."
   ]
  },
  {
   "cell_type": "code",
   "execution_count": 116,
   "metadata": {},
   "outputs": [
    {
     "data": {
      "text/plain": [
       "array([  1.09738726e-01,   2.44029538e-01,  -8.83907344e-02,\n",
       "         9.67303734e-02,  -5.04125427e-02,   2.70269804e-01,\n",
       "         2.60848461e-02,  -1.23756941e-01,   1.22158043e-01,\n",
       "         1.07589794e-01,   1.38689825e-01,  -8.49479599e-02,\n",
       "        -8.05044376e-02,   1.57743721e-01,   2.29936946e-01,\n",
       "         2.36415287e-01,   5.03594083e-01,  -2.61224410e-02,\n",
       "         4.62485393e-02,   6.41952712e-02,   4.32912524e-02,\n",
       "         3.05758687e-01,   2.12330987e-01,   3.82232278e-02,\n",
       "         5.28854667e-02,   5.17758207e-02,   5.31623483e-02,\n",
       "        -4.00437095e-02,   1.60308726e-01,  -7.49010818e-02,\n",
       "         7.54005737e-02,   1.77415475e-01,   5.98166841e-02,\n",
       "         1.05010767e-02,   1.90885830e-01,   1.61263096e-02,\n",
       "         3.48953082e-01,   1.94245237e-02,   3.63993118e-01,\n",
       "         1.85416267e-01,   1.77415475e-01,   3.18813544e-01,\n",
       "         2.70554782e-01,   4.07360512e-03,   1.05010767e-02,\n",
       "         2.41157270e-01,  -6.58506575e-03,   2.24314359e-01,\n",
       "         5.59786958e-02,   1.23117655e-01,   3.49238138e-01,\n",
       "        -1.24550947e-03,   9.12855357e-02,   5.59786958e-02,\n",
       "         8.40708164e-02,  -5.07980464e-02,   7.56094782e-02,\n",
       "        -6.55585234e-02,   1.61221392e-02,   6.02755094e-01,\n",
       "        -4.41893825e-02,   3.93695168e-02,   2.60600356e-01,\n",
       "         3.46068782e-02,  -4.14080488e-02,   6.28390479e-02,\n",
       "         1.94424000e-01,   6.00041995e-02,   2.02894805e-01,\n",
       "        -8.83907344e-02,   3.12773976e-02,   8.00276626e-02,\n",
       "         2.73620813e-01,  -3.92286212e-02,   3.45231383e-01,\n",
       "         8.49891730e-02,   2.21506941e-01,   1.33190461e-01,\n",
       "         2.03097600e-01,   7.79305899e-02,   7.26421378e-02,\n",
       "         5.43789082e-01,   3.24524999e-02,   4.73104086e-02,\n",
       "         5.53409596e-02,   4.28139248e-01,   1.56769127e-01,\n",
       "         2.59078146e-01,   5.36969714e-02,  -6.59312327e-02,\n",
       "         1.22853111e-01,   4.75453216e-02,   1.42222860e-01,\n",
       "         1.10939855e-01,   5.31535585e-03,   9.76622913e-02,\n",
       "         1.50206244e-01,   1.72356219e-01,   3.81059898e-01,\n",
       "         4.00639090e-01,   2.84660991e-01,   1.15561306e-01,\n",
       "         4.89665932e-02,   2.41157270e-01,   7.79305899e-02,\n",
       "         4.62637336e-02,  -3.86862494e-02,   5.31535585e-03,\n",
       "         1.71758366e-01,  -2.47493019e-02,  -7.59541853e-02,\n",
       "         1.23199879e-01,   3.62836944e-01,   8.96383286e-02,\n",
       "         1.04465644e-01,  -3.09193171e-02,   9.16671888e-02,\n",
       "         9.96491072e-02,   8.96383286e-02,   2.79584507e-01,\n",
       "        -1.24550947e-03,   8.96383286e-02,   1.02934098e-01,\n",
       "         3.18813544e-01,   1.43241751e-01,   2.70554782e-01,\n",
       "        -2.47493019e-02,   1.94424000e-01,   2.64864280e-01,\n",
       "         1.38689825e-01,   4.37103528e-01,   4.94429500e-02,\n",
       "         5.28854667e-02,  -1.63491708e-02,   9.96491072e-02,\n",
       "         1.67127025e-01,   3.15317752e-01,  -8.33241210e-02,\n",
       "         1.01065813e-01,  -2.20069675e-02,   6.78722716e-01,\n",
       "         5.02353141e-02,   1.38689825e-01,   1.05010767e-02,\n",
       "         5.42291500e-02,   5.72599030e-02,   7.13572723e-02,\n",
       "         1.14893095e-01,  -3.90766672e-02,   7.05578954e-02,\n",
       "         1.77415475e-01,  -1.49816386e-02,   4.48295348e-01,\n",
       "         1.57743721e-01,  -4.40049691e-02,   7.51323802e-02,\n",
       "         1.22646771e-01,   4.58426607e-01,   3.26960172e-02,\n",
       "        -1.23756941e-01,   4.07360512e-03,   3.84243721e-01,\n",
       "         5.72599030e-02,  -2.72425690e-02,   2.71595070e-01,\n",
       "         1.01186481e-01,   1.20391683e-01,   5.18885520e-02,\n",
       "        -2.73784101e-02,   1.07353642e-01,  -6.80098367e-02,\n",
       "         5.19856944e-01,  -4.32581367e-02,  -6.55585234e-02,\n",
       "         1.22853111e-01,   3.20713426e-01,   4.73104086e-02,\n",
       "         2.05415492e-01,   5.52564701e-02,   5.51103589e-02,\n",
       "         2.61544442e-01,   7.05578954e-02,   1.04465644e-01,\n",
       "        -5.98170574e-02,   3.39448827e-01,   5.92654258e-02,\n",
       "         6.27570982e-02,   4.58140416e-02,   1.95971771e-01,\n",
       "        -4.70588261e-04,   2.67842781e-01,   3.48953082e-01,\n",
       "         3.78649710e-01,   7.98590043e-02,   8.89108682e-02,\n",
       "         9.90322357e-02,   1.51850685e-01,   1.22133646e-01,\n",
       "         1.10601856e-01,   1.33190461e-01,  -3.12314856e-02,\n",
       "         2.02664581e-01,  -4.91058691e-02,   1.21118560e-01,\n",
       "         4.91361694e-02,   1.26897183e-01,   1.23117655e-01,\n",
       "         3.83093764e-02,   6.43866754e-02,   1.47704341e-01,\n",
       "         1.23275941e-01,   6.92626305e-02,   2.44029538e-01,\n",
       "         1.80502007e-01,   1.03173221e-01,   2.21506941e-01,\n",
       "         1.06442439e-01,  -1.19653131e-02,   2.70554782e-01,\n",
       "         8.80593954e-02,   4.63715468e-02,   9.16282549e-02,\n",
       "         9.33412313e-02,   2.57071120e-01,   1.21056070e-01,\n",
       "         4.78829056e-01,   4.41061229e-02,   1.22274588e-01,\n",
       "        -4.81859689e-02,  -1.63491708e-02,   1.94433973e-01,\n",
       "         3.26060958e-01,   3.51571954e-02,   3.26449397e-02,\n",
       "         6.60394068e-02,   2.06219040e-01,  -3.27078335e-02,\n",
       "         1.40767453e-01,  -3.18818847e-02,   2.06244918e-01,\n",
       "         5.31218495e-02,   5.64732444e-02,   1.17282688e-01,\n",
       "         1.77415475e-01,   3.51571954e-02,   1.65991763e-01,\n",
       "         2.06904246e-01,   1.44497308e-01,   3.15317752e-01,\n",
       "         5.05658683e-02,  -7.56910098e-02,   8.49891730e-02,\n",
       "         1.05640479e-01,   9.72302401e-02,   1.38136034e-01,\n",
       "         1.80117334e-01,   1.77115965e-01,   1.04597631e-01,\n",
       "         1.06525038e-01,   4.62485393e-02,   1.84492162e-02,\n",
       "        -9.18938910e-02,   1.09329922e-01,   1.29743210e-01,\n",
       "         1.29743210e-01,   2.99548393e-02,  -4.57745264e-02,\n",
       "         7.13273595e-02,   1.94245237e-02,   1.45272659e-01,\n",
       "         1.33685235e-01,   3.26449397e-02,   1.14893095e-01,\n",
       "         1.49550431e-01,   6.60378894e-02,  -1.28266030e-02,\n",
       "         2.03097600e-01,   1.61263096e-02,   1.90885830e-01,\n",
       "         2.25685413e-01,   3.17871129e-01,   2.47816191e-01,\n",
       "         2.63918699e-01,   1.49331419e-01,   1.07353642e-01,\n",
       "         1.20339616e-01,   1.58996122e-01,   6.41952712e-02,\n",
       "         9.46713502e-02,   1.04476236e-01,   4.07360512e-03,\n",
       "         4.58426607e-01,   3.18813544e-01,   1.47704341e-01,\n",
       "         2.99548393e-02,  -3.02881437e-02,   8.00276626e-02,\n",
       "         4.56677544e-02,   1.71717186e-01,   2.99744382e-01,\n",
       "         1.95221821e-02,   3.24524999e-02,   1.71717186e-01,\n",
       "         3.42710493e-01,   2.16629995e-02,  -7.48821483e-02,\n",
       "         1.57040394e-01,   2.24314359e-01,   2.06904246e-01,\n",
       "         4.86219411e-01,   2.02894805e-01,   7.74646228e-02,\n",
       "         1.21056070e-01,   1.63678912e-01,   3.03478454e-01,\n",
       "         6.43866754e-02,   4.15233980e-01,   6.54134047e-02,\n",
       "         1.81662305e-01,   1.58852401e-01,   1.84204440e-01,\n",
       "         1.06230325e-01,   4.50396018e-01,   3.82232278e-02,\n",
       "         2.65777608e-01,  -3.81341296e-02,   1.19913075e-01,\n",
       "         5.31535585e-03,   1.24680613e-02,  -5.79106732e-02,\n",
       "         4.75453216e-02,   3.42710493e-01,   1.12375051e-01,\n",
       "         1.29743210e-01,   8.41159051e-03,   1.84492162e-02,\n",
       "         1.97809378e-01,   1.44286740e-01,   1.33685235e-01,\n",
       "         3.09182497e-01,   3.42710493e-01,   5.58043338e-02,\n",
       "         5.64732444e-02,   1.71758366e-01,   1.58852401e-01,\n",
       "         8.00276626e-02,   1.76673662e-01,  -3.40515402e-02,\n",
       "         6.64136117e-02,  -6.57164531e-03,   1.40767453e-01,\n",
       "         1.03599418e-01,   8.41562669e-02,   5.52564701e-02,\n",
       "         1.97161006e-01,   5.13525500e-02,   4.00639090e-01,\n",
       "        -5.50531140e-02,   4.48295348e-01,   2.69777172e-02,\n",
       "         2.45400413e-01,   2.44930556e-01,   8.40708164e-02,\n",
       "         2.64864280e-01,   8.00276626e-02,   1.51456030e-01,\n",
       "         5.52304244e-02,   1.36286734e-01,   1.21056070e-01,\n",
       "         3.13572701e-01,   4.59625832e-02,   5.51103589e-02,\n",
       "         3.36822624e-01,   1.69213050e-01,  -8.01426912e-02,\n",
       "        -7.76438250e-02,   1.40112610e-01,   2.16629995e-02,\n",
       "        -4.29052800e-02,  -6.60777465e-02,   3.51571954e-02,\n",
       "         3.79361579e-01,   1.00304574e-01,  -2.59670304e-02,\n",
       "         2.82653194e-01,   4.55597528e-02,   1.23260891e-01,\n",
       "         1.01111780e-01,   3.74728445e-02,   5.53409596e-02,\n",
       "         2.15077201e-01,   3.17403543e-01,  -7.90709150e-02,\n",
       "         2.40134939e-01,   8.02779423e-02,   9.73303629e-03,\n",
       "        -5.59468359e-02,   2.22635545e-01,  -4.41893825e-02,\n",
       "         1.13436247e-01,   5.31623483e-02,   1.84204440e-01,\n",
       "        -8.41295455e-02,   2.71595070e-01,   1.63496049e-01,\n",
       "         3.14084359e-01,   9.82336829e-02,   4.94429500e-02,\n",
       "         1.20245866e-01,   1.44497308e-01,   8.14469352e-02,\n",
       "         3.60819469e-01,   6.96736916e-03,   1.71717186e-01,\n",
       "         2.33250351e-01,   1.94345419e-01,   1.12375051e-01,\n",
       "         1.18120593e-01,   2.36208042e-01,   3.24524999e-02,\n",
       "         3.43937847e-01,   1.80502007e-01,  -5.54550990e-02,\n",
       "         1.53856796e-01,   1.42766952e-01,   2.45400413e-01,\n",
       "         1.10601856e-01,   2.12929885e-01,   1.17024305e-01,\n",
       "         7.05578954e-02,   1.51785434e-01,   1.30000501e-01,\n",
       "         3.57332668e-01,   1.21056070e-01,   2.03588486e-01,\n",
       "         2.70554782e-01,   1.06442439e-01,   2.58861496e-01,\n",
       "        -1.25719827e-01,   1.24680613e-02,   3.41702783e-01,\n",
       "         3.60819469e-01,  -3.27078335e-02,   4.41061229e-02,\n",
       "         4.37103528e-01,   4.48295348e-01,   3.11666808e-01,\n",
       "         3.68270758e-01,   3.04083915e-01,   4.41560224e-02,\n",
       "         3.07460352e-01,   2.67894325e-01,  -5.54550990e-02,\n",
       "         3.57951291e-02,   3.15317752e-01,   1.44431983e-01,\n",
       "         3.83093764e-02,   1.33190461e-01,   5.85516811e-03,\n",
       "         3.07460352e-01,   4.50554633e-02,   4.58140416e-02,\n",
       "         1.51692790e-01,   4.94429500e-02,   2.36426756e-01,\n",
       "         1.80149070e-01,  -4.41893825e-02,   6.86193253e-02,\n",
       "         1.76347694e-01,   3.03478454e-01,   1.26668328e-01,\n",
       "        -1.24550947e-03,  -1.25719827e-01,   8.14469352e-02,\n",
       "         2.82653194e-01,   6.75575387e-02,   1.23199879e-01,\n",
       "         1.00516234e-01,   4.72706303e-01,   5.65867978e-02,\n",
       "         1.51267592e-01,   3.74728445e-02,   1.72073802e-01,\n",
       "        -2.72425690e-02,   1.57040394e-01,  -7.48821483e-02,\n",
       "         1.01287978e-01,   5.47192994e-02,   1.03173221e-01,\n",
       "        -2.44945569e-02,   4.65060852e-01,   5.43789082e-01,\n",
       "         2.98354827e-01,  -6.58506575e-03,   5.82559331e-02,\n",
       "         3.46068782e-02,   2.06219040e-01,   2.01304547e-01,\n",
       "         2.06904246e-01,   6.60394068e-02,  -1.03533696e-02,\n",
       "         2.28099187e-01,   2.12181747e-01,   7.64377412e-02,\n",
       "         2.05415492e-01,   1.44431983e-01,  -7.76438250e-02,\n",
       "         9.96491072e-02,   1.07353642e-01,  -4.57745264e-02,\n",
       "         1.58852401e-01,   3.39448827e-01,   1.17024305e-01,\n",
       "         3.79361579e-01,   2.31193158e-01,   1.97962812e-01,\n",
       "         6.41952712e-02,   2.54622006e-01,   1.81085261e-01,\n",
       "         5.36969714e-02,   6.00041995e-02,   5.03594083e-01,\n",
       "         5.15945339e-02,   1.26668328e-01,   4.89665932e-02,\n",
       "         7.26421378e-02,   1.12333192e-01,   1.22158043e-01,\n",
       "         1.32004713e-01,   4.62637336e-02,   3.22103777e-01,\n",
       "         1.22242429e-01,   4.75453216e-02,   1.23117655e-01,\n",
       "         4.75453216e-02,   3.41702783e-01,   1.95971771e-01,\n",
       "        -4.85879972e-03,   2.15117306e-01,   3.20370959e-01,\n",
       "         3.84243721e-01,   1.22133646e-01,   6.43866754e-02,\n",
       "         3.26060958e-01,   2.12069339e-01,   9.38749757e-02,\n",
       "         1.85438695e-01,   1.02934098e-01,   6.82852210e-02,\n",
       "         9.91353093e-02,   6.71400877e-02,   2.03588486e-01,\n",
       "         2.99548393e-02,   2.25685413e-01,   2.99744382e-01,\n",
       "         3.17403543e-01,   3.26960172e-02,   9.82336829e-02,\n",
       "         2.06244918e-01,   4.73539447e-02,  -1.53232477e-02,\n",
       "         5.36086851e-01,   4.28740062e-01,   3.82232278e-02,\n",
       "         4.71493191e-02,   9.16282549e-02,   9.82336829e-02,\n",
       "         8.89108682e-02,   6.31275341e-02,   4.05802821e-02,\n",
       "         2.93253684e-01,  -4.57732330e-02,   5.54398168e-01,\n",
       "        -1.53232477e-02,   1.90885830e-01,   2.40134939e-01,\n",
       "         4.59210944e-01,   2.60848461e-02,  -1.23756941e-01,\n",
       "         1.57040394e-01,   4.60454408e-02,   4.37103528e-01,\n",
       "         8.76031823e-02,  -3.73000066e-02,   7.56094782e-02,\n",
       "         6.86193253e-02,   7.32086017e-02,   7.05578954e-02,\n",
       "         5.68284851e-02,   5.33004564e-02,   7.89282765e-02,\n",
       "         1.32979346e-01,   5.31535585e-03,   5.51103589e-02,\n",
       "         2.93253684e-01,   3.17403543e-01,   6.60378894e-02,\n",
       "         7.72921468e-02,   2.31672610e-01,   1.08661444e-01,\n",
       "         3.20319372e-01,   5.78957967e-02,   5.13525500e-02,\n",
       "         1.32421677e-01,   2.21796920e-01,   7.64377412e-02,\n",
       "         2.66856281e-02,   7.05578954e-02,   1.03546329e-01,\n",
       "         8.00276626e-02,  -5.54550990e-02,   4.89665932e-02,\n",
       "         3.04083915e-01,   5.78957967e-02,  -3.86862494e-02,\n",
       "         1.23157063e-02,   2.69632692e-01,   5.34855051e-02,\n",
       "         1.99442823e-01,  -4.41893825e-02,  -8.53012551e-03,\n",
       "         2.84307077e-02,   2.71595070e-01,   2.44029538e-01,\n",
       "         5.26968135e-01,   3.42710493e-01,   4.28740062e-01,\n",
       "         6.92626305e-02,   1.81085261e-01,   8.37681939e-02,\n",
       "         1.91582698e-01,   1.00516234e-01,  -1.25719827e-01,\n",
       "         4.73104086e-02,   3.45231383e-01,  -3.02881437e-02,\n",
       "         1.29743210e-01,   1.99018447e-01,   7.81686712e-02,\n",
       "         1.29743210e-01,   2.84307077e-02,  -1.02552644e-03,\n",
       "         1.06230325e-01,   1.51267592e-01,   1.63506909e-01,\n",
       "         1.26386452e-01,  -2.18794462e-02,   2.10012077e-01,\n",
       "         4.73539447e-02,   1.93134118e-01,   2.27438454e-01,\n",
       "         3.04083915e-01,   2.03508085e-01,   4.73539447e-02,\n",
       "         7.56094782e-02,   4.15233980e-01,   1.17024305e-01,\n",
       "         1.94245237e-02,  -9.11853322e-03,   2.93253684e-01,\n",
       "        -4.49251050e-02,   3.88396396e-01,   1.93134118e-01,\n",
       "         2.32078551e-02,  -5.07980464e-02,   4.91959957e-01,\n",
       "         1.32004713e-01,   2.17231196e-01,   1.67127025e-01,\n",
       "        -5.36663163e-02,   2.82733645e-01,   1.36190445e-01,\n",
       "        -2.47845536e-03,   7.51323802e-02,   2.26963758e-01,\n",
       "         8.19116271e-02,   1.20921927e-01,   1.10939855e-01,\n",
       "         1.58852401e-01,   4.48295348e-01,   1.78041468e-01,\n",
       "         3.72842583e-02,   4.60092860e-01,   4.60092860e-01,\n",
       "        -4.41893825e-02,   7.56094782e-02,   2.06244918e-01,\n",
       "         1.66633156e-01,   1.94245237e-02,   4.90615030e-01,\n",
       "         1.22242429e-01,   2.10738535e-01,   7.56094782e-02,\n",
       "         1.29546386e-01,   5.17758207e-02,   2.57071120e-01,\n",
       "         1.12951845e-01,   1.20339616e-01,  -4.85879972e-03,\n",
       "         1.13436247e-01,  -4.65068693e-02,   2.21796920e-01,\n",
       "         2.73927438e-02,   2.70269804e-01,  -1.23756941e-01,\n",
       "         3.07005738e-01,   1.09738726e-01,   7.13273595e-02,\n",
       "         9.72302401e-02,   3.08508173e-01,   1.26668328e-01,\n",
       "         2.30447901e-02,   9.46713502e-02,   1.03599418e-01,\n",
       "         7.56094782e-02,   1.94433973e-01,  -2.20069675e-02,\n",
       "         5.22609666e-02,   4.32912524e-02,   2.32393155e-01,\n",
       "        -4.91058691e-02,   1.24610074e-01,   1.29574177e-01,\n",
       "         4.01747885e-02,   9.91353093e-02,   1.04465644e-01,\n",
       "         1.08872296e-01,   2.58861496e-01,   2.97497392e-02,\n",
       "         2.16629995e-02,   1.84204440e-01,   5.37139310e-01,\n",
       "         1.45272659e-01,   1.06230325e-01,   1.05010767e-02,\n",
       "         2.25685413e-01,   1.42766952e-01,   5.59786958e-02,\n",
       "        -1.23920163e-01,   2.40134939e-01,   2.06304292e-01,\n",
       "         1.43241751e-01,   6.71400877e-02,   1.68057516e-01,\n",
       "        -3.64486659e-02,   1.28167523e-01,  -8.33241210e-02,\n",
       "         9.82336829e-02,   3.03951189e-01,   3.17403543e-01,\n",
       "         3.03951189e-01,   2.55894229e-01,   1.19754285e-01,\n",
       "        -6.80098367e-02,   1.79074008e-01,  -3.27078335e-02,\n",
       "         1.77447507e-01,   2.73927438e-02,   3.08508173e-01,\n",
       "         6.00041995e-02,   3.16884513e-01,   1.82242429e-01,\n",
       "        -2.18794462e-02,   8.30577615e-03,   1.13242383e-01,\n",
       "         1.82242429e-01,   5.68284851e-02,   1.22133646e-01,\n",
       "         1.20245866e-01,   2.98354827e-01,   4.53979027e-02,\n",
       "        -7.87617533e-02,  -2.06605829e-03,   1.14106622e-01,\n",
       "         2.23224438e-01,  -3.66815207e-02,   1.28167523e-01,\n",
       "         5.24518707e-02,  -9.11853322e-03,   1.23275941e-01,\n",
       "         5.37139310e-01,   2.09145662e-01,   5.53409596e-02,\n",
       "         1.02934098e-01,   1.57743721e-01,   3.18813544e-01,\n",
       "         1.42222860e-01,   4.91361694e-02,   5.31535585e-03,\n",
       "        -5.79106732e-02,   1.67127025e-01,   1.71717186e-01,\n",
       "         1.54641716e-01,   1.59413674e-01,   2.05271542e-02,\n",
       "         6.31275341e-02,  -4.00437095e-02,   1.51785434e-01,\n",
       "         2.30867680e-01,   1.77415475e-01,   8.37681939e-02,\n",
       "         1.23117655e-01,   8.00276626e-02,   7.11423236e-02,\n",
       "         1.97508087e-01,   1.75434453e-01,   1.24610074e-01,\n",
       "         2.30468772e-02,   2.62305929e-01,   2.55894229e-01,\n",
       "         7.79305899e-02,   1.20339616e-01,   3.26960172e-02,\n",
       "        -5.59468359e-02,   9.30004762e-02,   4.37571872e-02,\n",
       "         2.28099187e-01,   1.79222399e-02,   1.14106622e-01,\n",
       "         1.72073802e-01,   2.32078551e-02,   4.62485393e-02,\n",
       "         4.75453216e-02,   1.32421677e-01,   1.60308726e-01,\n",
       "        -1.23920163e-01,   2.01304547e-01,   1.54641716e-01,\n",
       "         6.70327320e-02,   1.22274588e-01,  -6.52337768e-02,\n",
       "         1.28912607e-01,  -3.92286212e-02,   1.35342205e-01,\n",
       "         7.32086017e-02,   1.08661444e-01,  -5.07980464e-02,\n",
       "         3.26060958e-01,   7.88230493e-02,   1.63678912e-01,\n",
       "         3.82232278e-02,   1.13436247e-01,   8.09944981e-02,\n",
       "         1.51785434e-01,   3.22103777e-01,   3.36822624e-01,\n",
       "         3.57175490e-02,   9.73303629e-03,   1.63496049e-01,\n",
       "         1.45272659e-01,  -1.90708673e-02,   1.10106088e-01,\n",
       "         1.21910436e-01,   1.60308726e-01,   3.62836944e-01,\n",
       "        -1.24550947e-03,   7.54005737e-02,  -4.29052800e-02,\n",
       "         1.09949357e-01,   6.85643339e-02,   1.26897183e-01,\n",
       "        -7.16942516e-02,   2.15077201e-01,   5.54398168e-01,\n",
       "        -2.06605829e-03,   1.87549425e-01,   1.59992779e-01,\n",
       "         4.39233418e-01,  -8.05044376e-02,   2.22393664e-01,\n",
       "         1.67548404e-01,   4.68940250e-02,   3.20713426e-01,\n",
       "         1.50206244e-01,   1.32129313e-02,   5.95588946e-02,\n",
       "         7.51323802e-02,  -2.90278698e-02,   1.48949537e-01,\n",
       "        -1.34772426e-02,   1.06530365e-01,   2.82653194e-01,\n",
       "         1.20339616e-01,   1.22274588e-01,   1.42932278e-01,\n",
       "         9.38749757e-02,   5.89845841e-02,   9.33412313e-02,\n",
       "         2.30468772e-02,   3.06556400e-01,   1.82291126e-01,\n",
       "         1.23275941e-01,   4.32912524e-02,   1.10335136e-01,\n",
       "         1.48949537e-01,   4.91361694e-02,   5.48730904e-02,\n",
       "        -3.64486659e-02,   1.29743210e-01,  -4.54724303e-02,\n",
       "         1.09329922e-01,   3.42710493e-01,   1.38136034e-01,\n",
       "        -3.90766672e-02,   3.39448827e-01,   1.32979346e-01,\n",
       "        -3.99166028e-02,   2.26963758e-01,   1.26668328e-01,\n",
       "         7.26421378e-02,   6.27570982e-02,   2.03097600e-01,\n",
       "         2.30447901e-02,   1.65991763e-01,  -2.06605829e-03,\n",
       "         2.22635545e-01,   4.08388790e-02,   3.08508173e-01,\n",
       "         9.96491072e-02,   4.41560224e-02,   1.29574177e-01,\n",
       "         8.76031823e-02,   2.99548393e-02,   1.28167523e-01,\n",
       "         5.03594083e-01,   1.97508087e-01,   2.05271542e-02,\n",
       "        -1.19653131e-02,   3.79361579e-01,   8.25578286e-02,\n",
       "         1.51267592e-01,   2.08423265e-01,   1.12333192e-01,\n",
       "         1.84492162e-02,   4.94429500e-02,   1.20245866e-01,\n",
       "         3.12104179e-01,   1.81085261e-01,   4.73104086e-02,\n",
       "         7.13273595e-02,  -1.27119138e-02,  -1.53232477e-02,\n",
       "        -7.01142363e-02,   1.26386452e-01,   6.92626305e-02,\n",
       "        -4.13413321e-02,  -5.04125427e-02,   1.43665756e-01,\n",
       "         2.67842781e-01,   1.82455839e-01,   1.04465644e-01,\n",
       "         1.76673662e-01,  -6.52337768e-02,   1.09949357e-01,\n",
       "         4.59210944e-01,   1.99442823e-01,   3.26960172e-02,\n",
       "        -6.66899405e-02,   1.95933976e-01,   5.36086851e-01,\n",
       "         6.27570982e-02,   4.71493191e-02,   4.58426607e-01,\n",
       "         1.36478660e-01,   1.81662305e-01,   7.64377412e-02,\n",
       "         2.30468772e-02,   4.86219411e-01,  -3.73000066e-02,\n",
       "         2.44029538e-01,   3.36949438e-02,   8.02779423e-02,\n",
       "         2.15077201e-01,  -2.44945569e-02,   5.52564701e-02,\n",
       "         2.71595070e-01,   8.82219749e-02,   2.79584507e-01,\n",
       "         1.06442439e-01,   1.63678912e-01,   3.03951189e-01,\n",
       "         2.04484956e-01,   4.56677544e-02,   4.55597528e-02,\n",
       "        -2.47845536e-03,   2.35734153e-01,   1.66165665e-01,\n",
       "         8.37681939e-02,  -5.50531140e-02,   6.60103167e-02,\n",
       "         1.99442823e-01,   2.29928390e-01,   6.86193253e-02,\n",
       "         1.37152115e-01,   4.63715468e-02,   1.89148268e-01,\n",
       "         3.12104179e-01,   3.09303521e-01,   1.09680823e-01,\n",
       "         1.34571242e-01])"
      ]
     },
     "execution_count": 116,
     "metadata": {},
     "output_type": "execute_result"
    }
   ],
   "source": [
    "ae_growth_rates = make_array()\n",
    "for i in np.arange(1000):\n",
    "    sample = bitcoin_after_ethereum.take(np.arange(30, 773)).sample(1)\n",
    "    current_timestamp = sample.column(0).item(0)\n",
    "    future_timestamp = 2592000 + current_timestamp\n",
    "    before_timestamp = current_timestamp - 2592000\n",
    "    current_close = sample.column(4).item(0)\n",
    "    future_close = bitcoin_after_ethereum.where('Timestamp', future_timestamp).column(4)\n",
    "    before_close = bitcoin_after_ethereum.where('Timestamp', before_timestamp).column(4)\n",
    "    rate = growth_rate(future_close, before_close, 2)\n",
    "    ae_growth_rates = np.append(ae_growth_rates, rate)\n",
    "ae_growth_rates"
   ]
  },
  {
   "cell_type": "markdown",
   "metadata": {},
   "source": [
    "In the next cell, we have plotted the distibution of the growth rates after the launch of ethereum."
   ]
  },
  {
   "cell_type": "code",
   "execution_count": 123,
   "metadata": {},
   "outputs": [
    {
     "data": {
      "image/png": "[encoded data removed]",
      "text/plain": [
       "<matplotlib.figure.Figure at 0x7ff75499d668>"
      ]
     },
     "metadata": {},
     "output_type": "display_data"
    }
   ],
   "source": [
    "plot1 = Table().with_column('Growth Rate', ae_growth_rates)\n",
    "plot1.hist()"
   ]
  },
  {
   "cell_type": "markdown",
   "metadata": {},
   "source": [
    "The test statistic is the difference in growth rates before the introduction of ethereum and after the introduction of ethereum. We calculated it by randomly sampling one growth rate from before the launch of ethereum and one growth rate after the launch of ethereum and stored their difference in an array called difference_in_rates"
   ]
  },
  {
   "cell_type": "code",
   "execution_count": 124,
   "metadata": {},
   "outputs": [
    {
     "data": {
      "text/plain": [
       "array([  9.94505960e-01,  -1.51711473e-01,  -3.86641924e-01,\n",
       "         1.76977537e-01,  -2.28772581e-02,   1.12635261e-02,\n",
       "         8.46058987e-01,  -1.80711383e-01,   8.56008636e-02,\n",
       "        -2.45136912e-01,   8.66360135e-01,  -4.30658706e-02,\n",
       "        -1.84829189e-01,  -6.40164038e-02,  -6.20770983e-02,\n",
       "        -2.57604071e-01,   6.85284493e-01,  -1.48818403e-01,\n",
       "         3.04938469e-02,  -1.00250509e-01,   3.13462739e-02,\n",
       "         1.51072552e+00,  -4.10989671e-01,  -1.61514950e-02,\n",
       "         1.82933549e+00,  -1.49826885e-01,   9.33271302e-02,\n",
       "        -9.76759215e-03,   1.88860443e-02,  -1.06588980e-01,\n",
       "         1.57587323e-01,  -4.02046153e-01,  -7.43148666e-03,\n",
       "        -6.34291648e-01,   2.40875027e-01,  -1.02570389e-01,\n",
       "        -3.73421785e-01,  -3.15101983e-01,  -1.74823270e-01,\n",
       "         2.15936896e-01,  -2.37613063e-02,  -1.75292992e-01,\n",
       "        -1.13592367e-01,  -7.09743280e-02,  -5.43731953e-02,\n",
       "        -6.06871203e-03,   3.06159436e-01,   9.22606300e-01,\n",
       "        -2.14190247e-01,  -1.95654100e-01,   1.81850830e-02,\n",
       "         3.07796142e-01,   2.18937557e-01,   5.44226281e-02,\n",
       "        -2.19858851e-01,   4.06530608e-02,   1.22719328e-01,\n",
       "         1.02880622e+00,   2.73645970e-01,   1.22708514e+00,\n",
       "        -6.54179188e-01,   1.69717291e-01,   1.58856242e-01,\n",
       "        -2.87370402e-01,   8.59848938e-01,  -2.26996836e-01,\n",
       "        -1.62933412e-01,   2.53274128e-02,   7.86929511e-02,\n",
       "         8.30377981e-02,  -2.49146437e-01,  -3.03773174e-01,\n",
       "         1.88083734e+00,  -2.63421104e-01,  -1.51291426e-01,\n",
       "        -4.61006751e-01,   1.21497084e-01,   3.36663679e-01,\n",
       "        -2.73302654e-01,   5.91625903e-01,   3.79789383e-01,\n",
       "         9.15326460e-02,  -6.45074712e-02,  -4.60602045e-02,\n",
       "         2.39624401e-01,  -2.91990733e-01,   9.96259297e-02,\n",
       "        -2.40658490e-01,  -1.59445124e-01,  -2.88058499e-01,\n",
       "        -4.15507050e-01,  -1.32185769e-01,  -1.87068564e-02,\n",
       "        -2.24063833e-01,   1.91306865e-01,   9.08277781e-02,\n",
       "        -3.70622942e-01,  -5.08073706e-01,   8.49211168e-01,\n",
       "         4.81698971e-01,   5.16469605e-02,  -1.19965234e-01,\n",
       "        -2.91984005e-01,  -4.08029737e-02,  -1.20488817e-01,\n",
       "        -7.15788837e-02,  -1.35587682e-01,  -5.86232336e-02,\n",
       "        -1.22494047e-01,   1.29324022e-02,  -1.57810420e-01,\n",
       "        -7.14831271e-02,   2.68658708e-02,   1.73454496e-01,\n",
       "        -1.61866352e-01,   1.14628711e-01,  -4.86792539e-01,\n",
       "         1.01880298e-01,  -4.00191628e-01,  -1.18718514e-01,\n",
       "         7.92727176e-01,  -9.56577604e-02,  -8.69982730e-02,\n",
       "        -3.11622612e-01,  -1.78457888e-01,   4.56899401e-01,\n",
       "        -2.44959662e-04,   1.29840770e-02,   1.54538160e-01,\n",
       "        -4.61699634e-02,   5.94478119e-02,   7.50335035e-01,\n",
       "        -3.85541159e-01,  -1.47026373e-01,   3.78115960e-01,\n",
       "        -3.34231783e-02,  -2.22091870e-01,  -2.21610107e-01,\n",
       "        -4.47143348e-01,  -1.55270639e-01,  -3.53782247e-01,\n",
       "         2.93833138e-01,  -2.21317452e-01,  -1.30021384e-01,\n",
       "        -3.49614618e-01,   1.10026822e+00,  -3.72699436e-01,\n",
       "        -3.33657747e-01,   1.09758208e+00,  -3.52440544e-01,\n",
       "         8.40229772e-01,  -4.63468070e-02,  -2.78279713e-01,\n",
       "         1.39777058e-01,  -1.07355691e-02,  -2.20552935e-01,\n",
       "        -2.10854170e-01,  -2.41916007e-01,   3.35079374e-02,\n",
       "        -5.11297098e-02,   1.26158003e-01,  -9.33630237e-02,\n",
       "        -3.25634364e-01,  -4.76897708e-01,   1.06669024e-02,\n",
       "        -1.48701480e-01,   8.25736266e-02,   1.30245679e+00,\n",
       "         1.61023197e-01,  -2.07788023e-01,  -1.02647299e-01,\n",
       "         1.84893438e-01,   1.20513203e+00,  -2.12251941e-01,\n",
       "        -2.02797368e-01,  -5.42756346e-02,  -2.39020329e-01,\n",
       "         3.57859077e-02,  -5.72169149e-02,  -2.30532329e-01,\n",
       "        -2.31351525e-01,   3.16736374e-02,  -2.06527670e-01,\n",
       "        -1.74384980e-01,  -6.63507139e-02,  -2.06090235e-02,\n",
       "         1.30293394e-01,   4.77415401e-02,  -3.19541965e-01,\n",
       "         4.58700821e-01,  -1.61653150e-01,  -2.25951963e-02,\n",
       "         1.13005489e+00,  -1.22400465e-01,  -1.15613819e-01,\n",
       "         2.93611673e-02,   1.09606898e+00,  -4.84787213e-01,\n",
       "        -4.28090899e-01,   1.80260662e-01,   1.14967841e-01,\n",
       "         2.83417917e-01,  -3.58629369e-01,  -2.81265467e-01,\n",
       "        -1.03068571e-01,  -1.88516781e-01,   5.48938093e-02,\n",
       "         3.28982630e-01,   5.67371138e-01,  -3.03951189e-01,\n",
       "         6.49226602e-03,   3.10810223e-03,  -3.03944416e-01,\n",
       "        -5.02419472e-01,  -2.97143303e-01,  -1.49467390e-01,\n",
       "        -3.31416488e-01,  -6.24989425e-02,  -2.45548756e-01,\n",
       "        -5.61261823e-01,   4.89767393e-01,  -6.91196730e-02,\n",
       "         8.76454580e-01,   6.91260411e-01,  -7.26171631e-02,\n",
       "        -5.77748385e-02,  -2.46529378e-01,  -3.74049638e-01,\n",
       "         3.75736486e-01,  -4.99202390e-01,   1.39299861e-01,\n",
       "         1.22301633e-02,   8.06963283e-01,  -1.36050424e-01,\n",
       "        -8.10867144e-02,   1.54019302e-02,  -2.25404704e-01,\n",
       "        -9.79799379e-02,  -1.85696013e-01,   8.04220533e-01,\n",
       "         1.40026493e+00,   7.89351961e-03,  -1.21486301e-01,\n",
       "         1.64675373e-01,  -2.99385752e-01,   1.00159520e-01,\n",
       "         3.31995235e-01,   8.68693161e-01,  -1.78017043e-01,\n",
       "         1.07991178e-01,  -2.55213872e-01,  -2.39898746e-02,\n",
       "        -4.43270697e-02,   1.53557108e+00,   2.11994911e-02,\n",
       "        -6.40489542e-02,  -3.13944198e-01,   1.87951996e-01,\n",
       "        -1.42641453e-01,  -2.06095447e-01,   4.67703461e-01,\n",
       "        -9.19082261e-02,  -8.06326306e-02,  -1.00137324e-01,\n",
       "         4.29126122e-01,   4.97549762e-01,   4.06251245e-02,\n",
       "         8.91761289e-02,  -1.59414792e-01,  -5.63774326e-02,\n",
       "        -6.71592344e-02,  -2.01526259e-01,  -2.46017530e-01,\n",
       "        -1.00428026e-01,   1.76310982e-01,   1.70882850e+00,\n",
       "         2.18045928e-02,  -3.83561022e-02,   1.74978970e-01,\n",
       "        -4.21006247e-01,  -9.15106236e-02,  -2.91311442e-01,\n",
       "        -5.98562456e-03,   4.68331804e-02,   7.87674435e-01,\n",
       "         1.48189172e-01,  -2.30465962e-01,  -9.20748838e-02,\n",
       "        -4.34689094e-03,   4.72688931e-01,   6.17956829e-01,\n",
       "        -1.75079746e-01,  -3.43986466e-01,  -3.32158999e-01,\n",
       "        -2.67652972e-01,  -9.33821671e-03,   3.82358930e-01,\n",
       "        -1.27999105e-01,  -6.49981488e-02,   6.08063384e-02,\n",
       "        -2.47278720e-01,  -4.00949124e-02,  -2.09725581e-01,\n",
       "        -1.22223567e-01,   5.04025690e-01,   2.02737500e-01,\n",
       "        -9.45354880e-02,  -2.20902814e-01,  -2.40167153e-01,\n",
       "         3.25307659e-01,  -2.84407795e-01,  -2.64558494e-01,\n",
       "        -3.84098245e-01,  -1.53929047e-01,   2.26112760e-01,\n",
       "        -1.05730819e-01,  -3.40396219e-01,  -2.95216391e-01,\n",
       "        -4.35061310e-01,  -3.95606715e-01,   5.43792782e-02,\n",
       "        -1.14791932e-01,  -2.30867680e-01,  -2.88059967e-01,\n",
       "        -1.15676299e-01,   4.49280960e-02,   1.83754198e+00,\n",
       "        -2.55024438e-01,  -2.45501451e-01,   5.72299323e-02,\n",
       "        -3.21993426e-01,   7.89848595e-01,  -5.37520069e-01,\n",
       "        -2.18944581e-01,  -1.59952423e-01,  -6.74992685e-02,\n",
       "        -2.88402421e-01,   1.64917462e-01,  -4.24361854e-01,\n",
       "         2.67637118e-01,   7.95180286e-01,   7.15974887e-02,\n",
       "         3.86864020e-01,   1.04303374e+00,   1.57158996e-02,\n",
       "        -1.42826796e-01,   2.40860756e-02,  -1.06722368e-01,\n",
       "        -3.04039880e-02,  -1.32150246e-01,   5.72597990e-01,\n",
       "        -2.21745719e-01,   1.24323719e+00,  -2.40921202e-01,\n",
       "         5.69242792e-02,  -1.69573013e-01,   1.08725331e-01,\n",
       "        -2.62092143e-01,   6.43208492e-01,  -8.01644607e-02,\n",
       "         1.44711131e-01,  -2.41089877e-02,  -1.36581217e-01,\n",
       "         1.34407575e-01,  -1.65797288e-01,   2.56098789e-01,\n",
       "        -1.72165640e-01,   8.18181475e-01,  -7.82966726e-02,\n",
       "        -1.94274212e-01,  -2.52516672e-01,   1.17341527e+00,\n",
       "         5.14025027e-02,  -9.15784377e-02,  -7.75812448e-02,\n",
       "         1.59043272e-01,   5.50407778e-02,  -4.76152804e-01,\n",
       "         8.20323333e-01,   6.30047996e-02,  -2.13691823e-03,\n",
       "         7.16016897e-01,  -3.63069368e-01,  -4.32378151e-03,\n",
       "        -2.70275098e-01,  -8.74808733e-02,  -7.21707435e-02,\n",
       "        -6.69054697e-02,  -1.35770012e-01,  -1.78693909e-01,\n",
       "        -9.82569359e-02,  -1.14371998e-01,  -2.48514478e-01,\n",
       "        -1.07338053e-02,   1.45892452e+00,  -1.82720719e-01,\n",
       "         6.46427345e-01,  -2.20667726e-01,   8.85822168e-02,\n",
       "        -7.39194878e-02,  -3.58031194e-01,  -2.72832845e-01,\n",
       "        -5.13493482e-01,  -2.00625151e-01,  -1.90988065e-01,\n",
       "        -3.02426253e-01,   3.52298780e-02,  -1.30988323e-01,\n",
       "        -7.73851854e-03,   4.38656796e-01,  -8.37505980e-02,\n",
       "        -9.21802841e-02,   1.45873783e+00,   6.91779451e-01,\n",
       "         1.96877025e-03,   2.85775396e-01,  -4.62683573e-02,\n",
       "        -2.60796070e-01,  -1.63571272e-01,  -3.18348274e-01,\n",
       "         1.52653722e-01,  -5.56568889e-02,   2.13185323e+00,\n",
       "        -5.00512411e-01,   4.08988742e-02,  -4.17804410e-01,\n",
       "        -2.64594212e-01,  -1.95430670e-01,  -1.44692985e-01,\n",
       "         1.48191090e+00,   9.66082779e-02,  -4.05213564e-01,\n",
       "         3.79860322e-01,  -7.79042862e-02,  -4.69279815e-01,\n",
       "         1.76920728e-01,  -3.20396831e-01,   2.15919966e-01,\n",
       "        -1.85907795e-01,   9.91128020e-02,   3.39248274e-02,\n",
       "        -2.56640878e-01,   1.09327436e-01,   1.13069879e-01,\n",
       "        -1.21000879e-01,  -2.26082295e-01,  -1.37572430e-01,\n",
       "        -1.35982970e-01,  -2.46770523e-01,   1.14720795e-01,\n",
       "         6.88137872e-01,  -5.73608493e-01,  -3.08434092e-01,\n",
       "        -1.59090176e-01,  -2.85024285e-01,  -1.51154947e-02,\n",
       "        -2.22310843e-01,  -2.14447201e-01,  -1.31655278e-01,\n",
       "        -4.56892833e-01,  -6.55834410e-02,  -6.43528391e-01,\n",
       "        -1.07422507e-01,   4.23677199e-02,   3.57533120e-02,\n",
       "        -5.53070243e-02,  -4.54872490e-01,  -2.76205386e-01,\n",
       "        -3.22928497e-02,  -1.95760473e-01,   2.80953492e-01,\n",
       "        -3.88586517e-01,  -2.18724627e-01,  -2.61112282e-01,\n",
       "         5.53630609e-01,  -5.77139999e-02,  -3.59436120e-02,\n",
       "        -2.44146395e-01,  -4.08476263e-01,   4.63414697e-02,\n",
       "         1.32238019e-01,  -1.96742302e-01,   3.17363624e-01,\n",
       "        -1.95035644e-01,  -1.15652463e-01,   1.16554103e+00,\n",
       "        -8.69787821e-02,   3.11295290e-01,  -8.40819274e-02,\n",
       "         1.08002222e-01,   6.41836196e-02,  -4.95903898e-02,\n",
       "        -7.71031059e-02,  -4.87594561e-01,  -2.28211809e-01,\n",
       "        -1.61060931e-01,  -9.00134769e-02,  -2.37069605e-01,\n",
       "        -2.66380977e-01,  -1.03466466e-01,  -1.95510988e-01,\n",
       "        -1.99539408e-01,  -4.88557933e-01,  -1.84368883e-01,\n",
       "        -2.70129629e-01,   1.51421810e-01,   4.45242259e-01,\n",
       "         5.64396529e-02,   1.68035821e-04,   3.43387891e-01,\n",
       "        -1.79119594e-01,  -3.81725845e-01,   7.12861056e-01,\n",
       "         1.27657888e+00,   3.49297129e-01,  -3.10735409e-01,\n",
       "        -5.17348762e-01,   1.21303731e-01,   1.75859741e-01,\n",
       "         8.66701806e-02,   2.47013718e-01,   1.01385750e-01,\n",
       "        -2.12291793e-01,  -2.31762183e-01,  -2.53608897e-01,\n",
       "         2.03872324e-01,   4.43451387e-02,   2.01282358e+00,\n",
       "        -3.85022269e-01,   8.81546691e-01,  -6.90615451e-02,\n",
       "        -6.23285219e-02,  -1.64689559e-01,   6.16790283e-02,\n",
       "        -9.99630290e-02,  -1.31669524e-01,   8.52308489e-01,\n",
       "        -2.37329480e-01,   1.18270483e-01,   8.36599537e-01,\n",
       "        -1.10027714e-01,  -2.14203734e-01,   9.15813013e-01,\n",
       "         1.27990377e+00,   1.64095867e+00,  -3.38369318e-01,\n",
       "        -2.48885387e-01,   9.05768474e-02,   1.03744515e-05,\n",
       "         3.83813239e-01,   2.38256460e-02,  -1.60175869e-01,\n",
       "         2.97205321e-02,  -9.30509199e-02,  -2.54127305e-01,\n",
       "         6.33903939e-01,   3.24541933e-02,  -6.50125239e-01,\n",
       "        -2.48213899e-01,  -1.63878393e-01,   5.25609535e-01,\n",
       "         2.40219663e-02,   8.09892575e-01,   6.74764787e-01,\n",
       "        -4.07326271e-01,  -4.00720841e-01,   2.12656350e-01,\n",
       "        -2.44355223e-01,   1.51172044e-02,  -1.11896438e-01,\n",
       "         5.16765672e-01,  -4.23009444e-01,   1.18557592e-02,\n",
       "        -2.66209633e-01,   2.01151407e-01,  -4.43391192e-01,\n",
       "        -7.40047959e-02,  -1.08091084e-01,  -1.95298972e-01,\n",
       "        -3.26882931e-01,   3.01502975e-01,   4.81562508e-02,\n",
       "         7.00135256e-02,  -1.93247849e-03,   1.50185054e+00,\n",
       "        -9.73794967e-02,  -5.24132255e-01,  -7.35117071e-02,\n",
       "        -1.85753783e-01,  -4.18207181e-01,  -9.57576462e-02,\n",
       "        -2.21381904e-01,  -2.74480735e-01,  -2.55065457e-02,\n",
       "        -7.59327659e-02,  -4.56750203e-01,  -1.08088062e-02,\n",
       "        -1.27450123e-01,   1.49414008e-01,   2.32582212e-01,\n",
       "         5.69826392e-01,   1.39065326e-01,  -3.75308578e-01,\n",
       "        -1.08116972e-01,  -2.66344875e-02,  -1.42596105e-01,\n",
       "        -7.16069826e-02,  -1.99768057e-01,   5.27387784e-03,\n",
       "         2.21907647e-01,   8.13952413e-02,  -4.93405604e-01,\n",
       "        -3.50033942e-01,   8.21667424e-02,  -5.44116461e-02,\n",
       "        -2.12119151e-02,   8.11674839e-01,  -1.89739563e-01,\n",
       "        -2.42825629e-01,  -2.20825396e-01,  -6.11896734e-01,\n",
       "        -8.58119025e-02,  -6.56504748e-01,  -2.95362597e-01,\n",
       "         3.39511977e-02,  -2.57653830e-01,  -1.26875030e-01,\n",
       "        -2.94333427e-01,   4.66998564e-01,  -5.94218297e-02,\n",
       "         1.76493173e-01,  -2.16719583e-01,   6.16299929e-01,\n",
       "        -2.60572834e-01,  -5.80827906e-01,   2.23845561e+00,\n",
       "         3.02671529e-01,   1.23825493e-01,  -9.22812368e-02,\n",
       "         1.30917176e-02,   8.39326907e-02,  -5.35711915e-03,\n",
       "        -1.62005997e-01,   1.71273019e-01,  -3.19515621e-01,\n",
       "         1.59844693e+00,  -7.14331368e-02,   6.70409935e-01,\n",
       "         1.15459450e-01,   8.55883418e-02,   7.07653114e-01,\n",
       "         1.66434174e-01,   3.65920617e-01,   8.39142149e-01,\n",
       "        -2.45732533e-01,  -3.68528549e-01,  -2.42903798e-02,\n",
       "        -5.50301179e-01,  -8.29247236e-02,  -3.52016096e-01,\n",
       "         1.87238614e-01,   9.41992806e-02,  -2.91904645e-01,\n",
       "         6.88216553e-01,   1.44407972e-01,  -2.20622366e-01,\n",
       "         1.04382395e+00,   4.70644539e-03,   8.67426353e-01,\n",
       "        -1.40756053e-01,   8.02492458e-02,  -2.00310435e-01,\n",
       "        -1.15092067e-01,  -1.89033343e-01,   1.74143088e-01,\n",
       "        -1.87563744e-01,  -1.23532242e-01,  -2.42709977e-01,\n",
       "        -1.70174345e-01,  -1.05494193e-01,  -4.79034771e-01,\n",
       "        -4.50822547e-02,  -2.34462231e-01,  -1.88704694e-01,\n",
       "        -2.70341779e-01,  -2.46695502e-01,  -2.18212178e-01,\n",
       "         5.87821982e-01,  -1.58887655e-01,   1.39472417e-01,\n",
       "        -2.43015414e-01,  -2.91214416e-01,  -3.38373479e-01,\n",
       "         4.41292302e-01,  -3.90601391e-02,  -2.75738065e-01,\n",
       "        -3.25041745e-01,   5.41608793e-02,  -1.75150254e-01,\n",
       "        -2.53227122e-01,  -1.91203257e-01,  -1.80895436e-01,\n",
       "        -1.67039666e-01,  -8.91692910e-02,   1.13931505e+00,\n",
       "         1.37841140e-01,   5.39093534e-01,   3.16854737e-01,\n",
       "        -2.75454862e-01,   4.03597439e-02,   6.71392877e-02,\n",
       "         8.03158896e-01,  -3.01873346e-01,  -1.85890417e-01,\n",
       "         1.22874928e-01,  -6.11020837e-02,   1.93058644e+00,\n",
       "         7.57829132e-02,   1.81151609e-01,   1.66903208e-01,\n",
       "         1.63251683e-01,  -9.06305623e-02,  -2.34929721e-01,\n",
       "        -2.81736327e-01,   6.73392160e-02,  -1.46661994e-01,\n",
       "         2.20045172e-01,  -4.99250078e-03,   6.95831693e-03,\n",
       "         1.67261670e-01,  -2.11760631e-01,  -7.36334786e-01,\n",
       "        -3.28597864e-01,  -4.43553233e-02,   4.62510703e-02,\n",
       "        -8.33775882e-02,  -2.19525674e-01,  -6.89367884e-02,\n",
       "         1.16833503e+00,   2.97441732e-01,  -2.34407765e-01,\n",
       "         3.65997249e-01,   1.60730075e-02,  -3.18814442e-02,\n",
       "         1.05823107e-01,   6.49360553e-01,  -5.96827395e-02,\n",
       "        -3.19520820e-01,   2.44908677e-02,   2.68314043e-01,\n",
       "        -1.29393222e-01,  -1.38762417e-01,  -6.35540057e-02,\n",
       "         3.55110515e-02,  -6.70189658e-02,  -5.75764921e-01,\n",
       "        -9.83198703e-02,  -6.12836922e-02,  -6.16787046e-02,\n",
       "         3.84073052e-02,  -2.97481633e-01,  -1.28618870e-01,\n",
       "        -5.09101054e-02,  -4.87160882e-01,   9.41045208e-01,\n",
       "        -4.94026332e-01,  -1.76802499e-01,  -1.88747660e-01,\n",
       "        -1.38751337e-01,  -1.01406176e-01,   1.65431286e-01,\n",
       "         8.01609899e-02,   1.00245492e-01,  -7.88095050e-02,\n",
       "         6.75948897e-01,  -3.74773237e-01,   8.60474612e-01,\n",
       "         1.10572463e-01,   2.28065356e-01,  -1.05492530e-02,\n",
       "        -1.55170098e-01,  -2.25081533e-01,  -3.55015719e-01,\n",
       "         1.45928597e+00,  -2.73287868e-01,   1.29656074e-01,\n",
       "        -2.98799195e-01,  -1.00868196e-01,  -1.64178149e-01,\n",
       "        -6.41449957e-02,   4.01578742e-01,  -3.23006695e-01,\n",
       "         1.53100391e-01,  -3.52499929e-01,  -2.29591661e-01,\n",
       "        -3.10858619e-01,   8.34133050e-01,   4.78305019e-02,\n",
       "        -8.84028320e-02,   1.02119450e+00,  -5.67474961e-02,\n",
       "        -5.15159915e-02,   1.08718190e-01,   8.68071462e-02,\n",
       "         5.05067107e-02,   2.45375141e-03,   6.75018989e-01,\n",
       "        -4.82565595e-01,  -2.39533301e-01,  -1.30224739e-02,\n",
       "        -1.78877167e-01,  -1.03642222e-01,   2.24369649e-01,\n",
       "        -4.28339431e-01,  -4.82797088e-01,  -2.92613164e-01,\n",
       "         1.06884190e-01,  -2.93128041e-01,  -1.81025245e-01,\n",
       "         1.75176681e-01,  -2.44331506e-01,   5.77582107e-02,\n",
       "        -4.31318193e-01,   1.52307167e-01,  -5.16336443e-03,\n",
       "         2.65042712e-01,  -9.25208065e-02,   8.66947980e-02,\n",
       "        -2.45235978e-01,  -1.79337410e-01,  -1.44272665e-01,\n",
       "        -3.85315664e-01,  -2.33752687e-01,   6.36948319e-01,\n",
       "         3.00476132e-01,  -1.55678582e-01,  -1.42355704e-01,\n",
       "         6.78653494e-02,   3.44711529e-02,  -2.54119499e-01,\n",
       "        -4.49766381e-01,   9.74262612e-01,   6.17847628e-02,\n",
       "        -3.64149665e-02,  -8.35131085e-02,   9.60226627e-02,\n",
       "        -1.58379870e-01,  -5.91613823e-02,  -1.51057950e-01,\n",
       "         2.59309630e-02,  -9.73160463e-02,  -3.11231976e-01,\n",
       "        -7.46669268e-02,  -1.92368563e-02,  -2.70445353e-01,\n",
       "         6.38251388e-01,  -3.47373903e-01,  -1.21110917e-01,\n",
       "        -3.55938815e-01,   1.96452227e-01,  -1.04988098e-01,\n",
       "         3.51906070e-01,  -1.28302969e-01,  -9.03646044e-02,\n",
       "         2.04277292e-01,  -4.50597704e-01,  -9.40414838e-02,\n",
       "        -2.99580988e-01,  -1.06304468e-01,  -1.26588483e-01,\n",
       "         2.70779657e-02,  -1.24560796e-01,  -4.78208646e-01,\n",
       "         1.68958828e-01,   5.26204747e-01,  -2.95416199e-01,\n",
       "         3.20392006e-02,  -4.25498924e-01,  -2.30998123e-01,\n",
       "        -2.09316069e-01,   5.98988975e-02,  -2.74494317e-01,\n",
       "        -6.77387012e-03,  -1.77962497e-01,  -4.05574821e-01,\n",
       "        -2.38449439e-01,   7.46634501e-02,  -4.28466558e-01,\n",
       "        -1.15391034e-01,   9.35539736e-01,   1.35464773e-01,\n",
       "        -2.65810223e-01,  -5.78523258e-02,   2.18505797e-01,\n",
       "         7.20068583e-02,  -2.23916893e-01,  -3.18988770e-01,\n",
       "        -5.87675306e-01,   1.00616217e-01,  -1.39488099e-01,\n",
       "         1.50368000e-01,   6.09358414e-02,   3.00677060e-01,\n",
       "        -1.69146053e-01,   5.90371935e-02,   6.28844960e-02,\n",
       "         2.30870274e-01,  -2.65036801e-01,  -1.35311917e-01,\n",
       "        -2.44349334e-01,   5.65604309e-02,   1.92257202e-01,\n",
       "         1.36433053e+00,   1.44092889e+00,  -6.29584866e-02,\n",
       "        -4.00437306e-01,   7.52617559e-03,  -2.05964100e-01,\n",
       "        -3.63908835e-02,  -3.81406113e-01,  -1.84472308e-01,\n",
       "         5.50332158e-01,  -4.29092105e-02,  -2.33457245e-01,\n",
       "        -2.15135680e-01,  -1.31928329e-01,   3.52187329e-02,\n",
       "         2.27424577e-03,  -2.77357710e-01,   1.52478335e-01,\n",
       "        -6.11743403e-01,  -1.05257250e-01,  -2.23950191e-02,\n",
       "         2.10778123e-02,   1.18631400e+00,   1.28727885e-01,\n",
       "         7.00259818e-02,   1.23157275e-01,  -2.25156678e-01,\n",
       "        -3.55839911e-01,   1.95583951e-01,  -2.52006354e-01,\n",
       "        -1.29234539e-01,   8.06424000e-02,   3.41310851e-02,\n",
       "         7.12352636e-01,   3.55411963e-01,  -1.59495166e-01,\n",
       "         1.05439348e-01,   1.87957308e-01,   8.63431961e-01,\n",
       "         9.96643691e-01,   7.09026421e-01,  -6.37577683e-02,\n",
       "        -3.41940748e-02,  -3.23714216e-01])"
      ]
     },
     "execution_count": 124,
     "metadata": {},
     "output_type": "execute_result"
    }
   ],
   "source": [
    "difference_in_rates = make_array()\n",
    "for i in np.arange(1000):\n",
    "    sample = bitcoin_before_ethereum.take(np.arange(30, 1273)).sample(1)\n",
    "    current_timestamp = sample.column(0).item(0)\n",
    "    future_timestamp = current_timestamp + 2592000\n",
    "    before_timestamp = current_timestamp - 2592000\n",
    "    future_close = bitcoin_before_ethereum.where('Timestamp', future_timestamp).column(4)\n",
    "    before_close = bitcoin_before_ethereum.where('Timestamp', before_timestamp).column(4)\n",
    "    be_rate = growth_rate(future_close, before_close, 2)\n",
    "    sample1 = bitcoin_after_ethereum.take(np.arange(30, 773)).sample(1)\n",
    "    current_timestamp1 = sample1.column(0).item(0)\n",
    "    future_timestamp1 = current_timestamp1 + 2592000\n",
    "    before_timestamp1 = current_timestamp1 - 2592000\n",
    "    future_close1 = bitcoin_after_ethereum.where('Timestamp', future_timestamp1).column(4)\n",
    "    before_close1 = bitcoin_after_ethereum.where('Timestamp', before_timestamp1).column(4)\n",
    "    ae_rate = growth_rate(future_close1, before_close1, 2)\n",
    "    difference_in_rates = np.append(difference_in_rates, be_rate - ae_rate)\n",
    "difference_in_rates"
   ]
  },
  {
   "cell_type": "markdown",
   "metadata": {},
   "source": [
    "We can now visualize the probability distibution of the test statistic, under the null hypothesis."
   ]
  },
  {
   "cell_type": "code",
   "execution_count": 125,
   "metadata": {},
   "outputs": [
    {
     "data": {
      "image/png": "[encoded data removed]",
      "text/plain": [
       "<matplotlib.figure.Figure at 0x7ff754a81e10>"
      ]
     },
     "metadata": {},
     "output_type": "display_data"
    }
   ],
   "source": [
    "diff_in_rates = Table().with_column('Diff', difference_in_rates).hist(bins = np.arange(-1, 1.1, 0.05))"
   ]
  },
  {
   "cell_type": "markdown",
   "metadata": {},
   "source": [
    "Considering a 5% P-Value Cutoff, we now form a 95% Confidence Interval."
   ]
  },
  {
   "cell_type": "code",
   "execution_count": 126,
   "metadata": {},
   "outputs": [],
   "source": [
    "lower_range = percentile(2.5, difference_in_rates)"
   ]
  },
  {
   "cell_type": "code",
   "execution_count": 127,
   "metadata": {},
   "outputs": [],
   "source": [
    "upper_range = percentile(97.5, difference_in_rates)"
   ]
  },
  {
   "cell_type": "code",
   "execution_count": 128,
   "metadata": {},
   "outputs": [
    {
     "name": "stdout",
     "output_type": "stream",
     "text": [
      "Our Confidence Interval: ( -0.493405604115 , 1.24323718962 )\n"
     ]
    }
   ],
   "source": [
    "print ('Our Confidence Interval: (', lower_range, ',',upper_range , ')' )"
   ]
  },
  {
   "cell_type": "markdown",
   "metadata": {},
   "source": [
    "**Conclusion:** Since our 95% Confidence Interval contains the value, 0, i.e, that the difference in the growth rates before and after the launch of ethereum, we fail to reject our null hypothesis. Thus, it seems introduction of ethereum did not have an impact on prices of bitcoin. "
   ]
  },
  {
   "cell_type": "markdown",
   "metadata": {},
   "source": [
    "## Prediction of Price of Bitcoin"
   ]
  },
  {
   "cell_type": "markdown",
   "metadata": {},
   "source": [
    "We have plotted the price of bitcoin through the years 2012 to 2017 to visualize the variation of the closing price."
   ]
  },
  {
   "cell_type": "code",
   "execution_count": 129,
   "metadata": {},
   "outputs": [
    {
     "data": {
      "image/png": "[encoded data removed]",
      "text/plain": [
       "<matplotlib.figure.Figure at 0x7ff754baff98>"
      ]
     },
     "metadata": {},
     "output_type": "display_data"
    }
   ],
   "source": [
    "bitcoin.scatter(0,4)"
   ]
  },
  {
   "cell_type": "markdown",
   "metadata": {},
   "source": [
    "To predict the future price of bitcoins, we choose a Non-linear Regression Technique as we can see from the curve above, that the association is not linear.\n",
    "\n",
    "We made a best fit line (exponential curve) which could help us predict the future price of bitcoins. We have taken the entire data since we had failed to reject our null and the data seemed consistent with our null."
   ]
  },
  {
   "cell_type": "markdown",
   "metadata": {},
   "source": [
    "To make the best fit line, we try and minimize the mean squared error. The function bitcoin_mse takes the slope and the intercept and returns the mean squared error of our predicted values."
   ]
  },
  {
   "cell_type": "code",
   "execution_count": 130,
   "metadata": {},
   "outputs": [],
   "source": [
    "def bitcoin_mse(a,b):\n",
    "    x = bitcoin.column('Timestamp')\n",
    "    y = bitcoin.column('Close')\n",
    "    fitted = a**(x) + b \n",
    "    return np.mean((y - fitted)**2)"
   ]
  },
  {
   "cell_type": "code",
   "execution_count": 131,
   "metadata": {},
   "outputs": [
    {
     "name": "stderr",
     "output_type": "stream",
     "text": [
      "/srv/app/venv/lib/python3.6/site-packages/ipykernel_launcher.py:4: RuntimeWarning: overflow encountered in power\n",
      "  after removing the cwd from sys.path.\n",
      "/srv/app/venv/lib/python3.6/site-packages/scipy/optimize/optimize.py:1850: RuntimeWarning: invalid value encountered in double_scalars\n",
      "  tmp2 = (x - v) * (fx - fw)\n",
      "/srv/app/venv/lib/python3.6/site-packages/scipy/optimize/optimize.py:1855: RuntimeWarning: invalid value encountered in absolute\n",
      "  tmp2 = numpy.abs(tmp2)\n"
     ]
    },
    {
     "data": {
      "text/plain": [
       "array([  1.00000001e+00,  -1.59927323e+03])"
      ]
     },
     "execution_count": 131,
     "metadata": {},
     "output_type": "execute_result"
    }
   ],
   "source": [
    "best = minimize(bitcoin_mse)\n",
    "best"
   ]
  },
  {
   "cell_type": "code",
   "execution_count": 132,
   "metadata": {},
   "outputs": [],
   "source": [
    "x = bitcoin.column('Timestamp')\n",
    "bitcoin_fit = best.item(0)**(x) + best.item(1)"
   ]
  },
  {
   "cell_type": "code",
   "execution_count": 133,
   "metadata": {},
   "outputs": [
    {
     "data": {
      "image/png": "[encoded data removed]",
      "text/plain": [
       "<matplotlib.figure.Figure at 0x7ff75560f668>"
      ]
     },
     "metadata": {},
     "output_type": "display_data"
    }
   ],
   "source": [
    "bitcoin.select(0,4).with_columns('Best exponential Curve', bitcoin_fit).scatter(0)"
   ]
  },
  {
   "cell_type": "markdown",
   "metadata": {},
   "source": [
    "After trying a couple of different lines, we reached the conclusion that an exponential curve would be our best fit line. Though, we think that this might not be so accurate due to a lot of confounding factors affecting the price."
   ]
  },
  {
   "cell_type": "markdown",
   "metadata": {},
   "source": [
    "Now, we'll quantitatively evaluate our prediction technique by plotting residuals."
   ]
  },
  {
   "cell_type": "code",
   "execution_count": 134,
   "metadata": {},
   "outputs": [],
   "source": [
    "def residual(table, x, y):\n",
    "    residuals = table.column(y) - bitcoin_fit\n",
    "    x_array = table.column(x)\n",
    "    t = Table().with_column(\n",
    "        x, x_array,\n",
    "        'residuals', residuals)\n",
    "    t.scatter(x, 'residuals', color = 'r')"
   ]
  },
  {
   "cell_type": "code",
   "execution_count": 135,
   "metadata": {},
   "outputs": [
    {
     "data": {
      "image/png": "[encoded data removed]",
      "text/plain": [
       "<matplotlib.figure.Figure at 0x7ff75b020eb8>"
      ]
     },
     "metadata": {},
     "output_type": "display_data"
    }
   ],
   "source": [
    "residual(bitcoin, 'Timestamp','Close')"
   ]
  },
  {
   "cell_type": "markdown",
   "metadata": {},
   "source": [
    "Since, the residual plot shows a trend and is not uniformly distibuted around zero, this is not a good prediction technique. We think it is very hard to predict bitcoin prices as there are a lot of confounding factors."
   ]
  },
  {
   "cell_type": "markdown",
   "metadata": {},
   "source": [
    "## 2. Submission"
   ]
  },
  {
   "cell_type": "markdown",
   "metadata": {},
   "source": [
    "Once you're finished, select \"Save and Checkpoint\" in the File menu and then execute the `submit` cell below. The result will contain a link that you can use to check that your assignment has been submitted successfully. If you submit more than once before the deadline, we will only grade your final submission."
   ]
  },
  {
   "cell_type": "code",
   "execution_count": 136,
   "metadata": {},
   "outputs": [
    {
     "data": {
      "application/javascript": [
       "IPython.notebook.save_checkpoint();"
      ],
      "text/plain": [
       "<IPython.core.display.Javascript object>"
      ]
     },
     "metadata": {},
     "output_type": "display_data"
    },
    {
     "data": {
      "application/javascript": [
       "IPython.notebook.save_notebook();"
      ],
      "text/plain": [
       "<IPython.core.display.Javascript object>"
      ]
     },
     "metadata": {},
     "output_type": "display_data"
    },
    {
     "name": "stdout",
     "output_type": "stream",
     "text": [
      "Saving notebook... Saved 'exploration.ipynb'.\n",
      "Submit... 100% complete\n",
      "Submission successful for user: yashswarup@berkeley.edu\n",
      "URL: https://okpy.org/cal/data8/fa17/exploration/submissions/vgjBwV\n",
      "\n"
     ]
    }
   ],
   "source": [
    "_ = ok.submit()"
   ]
  },
  {
   "cell_type": "code",
   "execution_count": null,
   "metadata": {},
   "outputs": [],
   "source": []
  }
 ],
 "metadata": {
  "kernelspec": {
   "display_name": "Python 3",
   "language": "python",
   "name": "python3"
  },
  "language_info": {
   "codemirror_mode": {
    "name": "ipython",
    "version": 3
   },
   "file_extension": ".py",
   "mimetype": "text/x-python",
   "name": "python",
   "nbconvert_exporter": "python",
   "pygments_lexer": "ipython3",
   "version": "3.6.1"
  }
 },
 "nbformat": 4,
 "nbformat_minor": 2
}
